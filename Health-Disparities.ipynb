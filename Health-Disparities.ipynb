{
 "cells": [
  {
   "cell_type": "markdown",
   "metadata": {},
   "source": [
    "# NHANES EDA on Health Disparities\n",
    "\n",
    "<p style='text-align: center;'><i><b>Unraveling Health Disparities: A Data-Driven Exploration through Social Determinants of Health (SDOH) using NHANES (Demographic & Questionnaire) data</b></i></p>\n",
    "<center><img src='https://github.com/kkrusere/NHANES-EDA-on-Health-Disparities-and-Inequities/blob/main/assets/nhanes_health_disparities.png?raw=true' width=600/></center>\n",
    "\n",
    "\n"
   ]
  },
  {
   "cell_type": "markdown",
   "metadata": {},
   "source": [
    "# Table of Contents\n",
    "\n",
    "1. [Introduction](#introduction)\n",
    "   - [Overview of Health Disparities](#health_disparities)\n",
    "   - [Social Determinants of Health (SDoH)](#social_determinants)\n",
    "   - [NHANES Dataset](#nhanes_dataset)\n",
    "   - [Project Goals and Objectives](#project_goals_objectives)\n",
    "\n",
    "2. [Background and Context](#background_context)\n",
    "   - [Understanding Health Disparities](#understanding_disparities)\n",
    "   - [Role of Social Determinants](#role_of_social_determinants)\n",
    "   - [Significance of NHANES Dataset](#nhanes_significance)\n",
    "\n",
    "3. [Data Collection and Preparation](#data_collection_preparation)\n",
    "   - [Introduction to NHANES-pyTOOL-API](#nhanes_pytool_api)\n",
    "   - [NHANES Demographic Data](#nhanes_demographic_data)\n",
    "   - [NHANES Questionnaire Data](#nhanes_questionnaire_data)\n",
    "   - [Joining Demographic and Questionnaire Data](#joining_data)\n",
    "\n",
    "4. [Exploratory Data Analysis (EDA)](#exploratory_data_analysis)\n",
    "   - [Descriptive Statistics](#descriptive_statistics)\n",
    "   - [Demographic Analysis](#demographic_analysis)\n",
    "   - [Analysis of Health Behaviors](#health_behavior_analysis)\n",
    "   - [Access to Healthcare](#access_to_healthcare)\n",
    "   - [Social Determinants of Health Analysis](#social_determinants_analysis)\n",
    "\n",
    "5. [Statistical Analysis](#statistical_analysis)\n",
    "   - [Inferential Statistics](#inferential_statistics)\n",
    "   - [Multivariate Analysis](#multivariate_analysis)\n",
    "   - [Comparative Analysis](#comparative_analysis)\n",
    "   - [Correlation Analysis](#correlation_analysis)\n",
    "   - [Hypothesis Testing](#hypothesis_testing)\n",
    "\n",
    "6. [Interpretation and Insights](#interpretation_insights)\n",
    "   - [Key Findings from EDA](#key_findings_eda)\n",
    "   - [Implications for Addressing Disparities](#addressing_disparities)\n",
    "\n",
    "7. [Conclusion](#conclusion)\n",
    "   - [Preject Summary](#project_summary)\n",
    "   - [Future Directions](#future_directions)\n",
    "\n",
    "8. [Appendix](#appendix)\n",
    "   - [NHANES-pyTOOL-API Documentation](#api_documentation)\n",
    "   - [Technical Details](#technical_details)\n",
    "\n",
    "9. [References](#references)\n",
    "\n",
    "\n"
   ]
  },
  {
   "cell_type": "code",
   "execution_count": null,
   "metadata": {},
   "outputs": [],
   "source": []
  },
  {
   "cell_type": "markdown",
   "metadata": {},
   "source": [
    "## [Introduction](#introduction)"
   ]
  },
  {
   "cell_type": "markdown",
   "metadata": {},
   "source": [
    "### [Overview of Health Disparities](#overview-of-health-disparities)\n"
   ]
  },
  {
   "cell_type": "code",
   "execution_count": null,
   "metadata": {},
   "outputs": [],
   "source": []
  },
  {
   "cell_type": "markdown",
   "metadata": {},
   "source": [
    "### [Social Determinants of Health (SDoH)](#social-determinants-of-health-sdoh)\n"
   ]
  },
  {
   "cell_type": "code",
   "execution_count": null,
   "metadata": {},
   "outputs": [],
   "source": []
  },
  {
   "cell_type": "markdown",
   "metadata": {},
   "source": [
    "### [NHANES Dataset](#nhanes-dataset)\n"
   ]
  },
  {
   "cell_type": "code",
   "execution_count": null,
   "metadata": {},
   "outputs": [],
   "source": []
  },
  {
   "cell_type": "markdown",
   "metadata": {},
   "source": [
    "### [Project Goals and Objectives](#project-goals-and-objectives)"
   ]
  },
  {
   "cell_type": "code",
   "execution_count": null,
   "metadata": {},
   "outputs": [],
   "source": []
  },
  {
   "cell_type": "markdown",
   "metadata": {},
   "source": [
    "## [Background and Context](#background-and-context)"
   ]
  },
  {
   "cell_type": "code",
   "execution_count": null,
   "metadata": {},
   "outputs": [],
   "source": []
  },
  {
   "cell_type": "markdown",
   "metadata": {},
   "source": [
    "### [Understanding Health Disparities](#understanding-health-disparities)"
   ]
  },
  {
   "cell_type": "code",
   "execution_count": null,
   "metadata": {},
   "outputs": [],
   "source": []
  },
  {
   "cell_type": "markdown",
   "metadata": {},
   "source": [
    "### [Role of Social Determinants](#role-of-social-determinants)"
   ]
  },
  {
   "cell_type": "code",
   "execution_count": null,
   "metadata": {},
   "outputs": [],
   "source": []
  },
  {
   "cell_type": "markdown",
   "metadata": {},
   "source": [
    "### [Significance of NHANES Dataset](#significance-of-nhanes-dataset)"
   ]
  },
  {
   "cell_type": "code",
   "execution_count": null,
   "metadata": {},
   "outputs": [],
   "source": []
  },
  {
   "cell_type": "markdown",
   "metadata": {},
   "source": [
    "## [Data Collection and Preparation](#data-collection-and-preparation)"
   ]
  },
  {
   "cell_type": "code",
   "execution_count": null,
   "metadata": {},
   "outputs": [],
   "source": []
  },
  {
   "cell_type": "markdown",
   "metadata": {},
   "source": [
    "### [Introduction to NHANES-pyTOOL-API](#introduction-to-nhanes-pytool-api)"
   ]
  },
  {
   "cell_type": "code",
   "execution_count": null,
   "metadata": {},
   "outputs": [],
   "source": []
  },
  {
   "cell_type": "markdown",
   "metadata": {},
   "source": [
    "### [NHANES Demographic Data](#nhanes-demographic-data)"
   ]
  },
  {
   "cell_type": "code",
   "execution_count": null,
   "metadata": {},
   "outputs": [],
   "source": []
  },
  {
   "cell_type": "markdown",
   "metadata": {},
   "source": [
    "### [NHANES Questionnaire Data](#nhanes-questionnaire-data)"
   ]
  },
  {
   "cell_type": "code",
   "execution_count": null,
   "metadata": {},
   "outputs": [],
   "source": []
  },
  {
   "cell_type": "markdown",
   "metadata": {},
   "source": [
    "### [Joining Demographic and Questionnaire Data](#joining-demographic-and-questionnaire-data)"
   ]
  },
  {
   "cell_type": "code",
   "execution_count": null,
   "metadata": {},
   "outputs": [],
   "source": []
  },
  {
   "cell_type": "markdown",
   "metadata": {},
   "source": [
    "## [Exploratory Data Analysis (EDA)](#exploratory-data-analysis-eda)"
   ]
  },
  {
   "cell_type": "code",
   "execution_count": null,
   "metadata": {},
   "outputs": [],
   "source": []
  },
  {
   "cell_type": "markdown",
   "metadata": {},
   "source": [
    "### [Descriptive Statistics](#descriptive-statistics)"
   ]
  },
  {
   "cell_type": "code",
   "execution_count": null,
   "metadata": {},
   "outputs": [],
   "source": []
  },
  {
   "cell_type": "markdown",
   "metadata": {},
   "source": [
    "### [Demographic Analysis](#demographic-analysis)\n"
   ]
  },
  {
   "cell_type": "code",
   "execution_count": null,
   "metadata": {},
   "outputs": [],
   "source": []
  },
  {
   "cell_type": "markdown",
   "metadata": {},
   "source": [
    "### [Analysis of Health Behaviors and Life-Style](#analysis-of-health-behaviors)"
   ]
  },
  {
   "cell_type": "code",
   "execution_count": null,
   "metadata": {},
   "outputs": [],
   "source": []
  },
  {
   "cell_type": "markdown",
   "metadata": {},
   "source": [
    "### [Access to Healthcare](#access-to-healthcare)"
   ]
  },
  {
   "cell_type": "code",
   "execution_count": null,
   "metadata": {},
   "outputs": [],
   "source": []
  },
  {
   "cell_type": "markdown",
   "metadata": {},
   "source": [
    "### [Social Determinants of Health Analysis](#social-determinants-of-health-analysis)"
   ]
  },
  {
   "cell_type": "code",
   "execution_count": null,
   "metadata": {},
   "outputs": [],
   "source": []
  },
  {
   "cell_type": "markdown",
   "metadata": {},
   "source": [
    "## [Statistical Analysis](#statistical-analysis)"
   ]
  },
  {
   "cell_type": "code",
   "execution_count": null,
   "metadata": {},
   "outputs": [],
   "source": []
  },
  {
   "cell_type": "markdown",
   "metadata": {},
   "source": [
    "### [Inferential Statistics](#inferential-statistics)"
   ]
  },
  {
   "cell_type": "code",
   "execution_count": null,
   "metadata": {},
   "outputs": [],
   "source": []
  },
  {
   "cell_type": "markdown",
   "metadata": {},
   "source": [
    "### [Multivariate Analysis](#multivariate-analysis)"
   ]
  },
  {
   "cell_type": "code",
   "execution_count": null,
   "metadata": {},
   "outputs": [],
   "source": []
  },
  {
   "cell_type": "markdown",
   "metadata": {},
   "source": [
    "### [Comparative Analysis](#comparative-analysis)\n"
   ]
  },
  {
   "cell_type": "code",
   "execution_count": null,
   "metadata": {},
   "outputs": [],
   "source": []
  },
  {
   "cell_type": "markdown",
   "metadata": {},
   "source": [
    "### [Correlation Analysis](#correlation-analysis)"
   ]
  },
  {
   "cell_type": "code",
   "execution_count": null,
   "metadata": {},
   "outputs": [],
   "source": []
  },
  {
   "cell_type": "markdown",
   "metadata": {},
   "source": [
    "### [Hypothesis Testing](#hypothesis-testing)"
   ]
  },
  {
   "cell_type": "code",
   "execution_count": null,
   "metadata": {},
   "outputs": [],
   "source": []
  },
  {
   "cell_type": "markdown",
   "metadata": {},
   "source": [
    "## [Interpretation and Insights](#interpretation-and-insights)"
   ]
  },
  {
   "cell_type": "code",
   "execution_count": null,
   "metadata": {},
   "outputs": [],
   "source": []
  },
  {
   "cell_type": "markdown",
   "metadata": {},
   "source": [
    "### [Key Findings from EDA](#key-findings-from-eda)\n"
   ]
  },
  {
   "cell_type": "code",
   "execution_count": null,
   "metadata": {},
   "outputs": [],
   "source": []
  },
  {
   "cell_type": "markdown",
   "metadata": {},
   "source": [
    "### [Implications for Addressing Disparities](#implications-for-addressing-disparities)"
   ]
  },
  {
   "cell_type": "code",
   "execution_count": null,
   "metadata": {},
   "outputs": [],
   "source": []
  },
  {
   "cell_type": "markdown",
   "metadata": {},
   "source": [
    "## [Conclusion](#conclusion)"
   ]
  },
  {
   "cell_type": "code",
   "execution_count": null,
   "metadata": {},
   "outputs": [],
   "source": []
  },
  {
   "cell_type": "markdown",
   "metadata": {},
   "source": [
    "### [Preject Summary](#project_summary)"
   ]
  },
  {
   "cell_type": "code",
   "execution_count": null,
   "metadata": {},
   "outputs": [],
   "source": []
  },
  {
   "cell_type": "markdown",
   "metadata": {},
   "source": [
    "### [Future Directions](#future_directions)"
   ]
  },
  {
   "cell_type": "code",
   "execution_count": null,
   "metadata": {},
   "outputs": [],
   "source": []
  },
  {
   "cell_type": "markdown",
   "metadata": {},
   "source": [
    "## [Appendix](#appendix)\n"
   ]
  },
  {
   "cell_type": "code",
   "execution_count": null,
   "metadata": {},
   "outputs": [],
   "source": []
  },
  {
   "cell_type": "markdown",
   "metadata": {},
   "source": [
    "### [NHANES-pyTOOL-API Documentation](#api_documentation)\n"
   ]
  },
  {
   "cell_type": "code",
   "execution_count": null,
   "metadata": {},
   "outputs": [],
   "source": []
  },
  {
   "cell_type": "markdown",
   "metadata": {},
   "source": [
    "### [Technical Details](#technical_details)"
   ]
  },
  {
   "cell_type": "code",
   "execution_count": null,
   "metadata": {},
   "outputs": [],
   "source": []
  },
  {
   "cell_type": "markdown",
   "metadata": {},
   "source": [
    "## [References](#references)"
   ]
  },
  {
   "cell_type": "markdown",
   "metadata": {},
   "source": []
  }
 ],
 "metadata": {
  "kernelspec": {
   "display_name": "nhanes_env",
   "language": "python",
   "name": "python3"
  },
  "language_info": {
   "name": "python",
   "version": "3.12.1"
  }
 },
 "nbformat": 4,
 "nbformat_minor": 2
}
