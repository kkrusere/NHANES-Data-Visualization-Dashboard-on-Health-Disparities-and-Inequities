{
 "cells": [
  {
   "cell_type": "markdown",
   "metadata": {
    "id": "T2EdB_k9bT5g"
   },
   "source": [
    "# **Project Outline**\n",
    "Problem Statement: The NHANES data is a rich collection of demographics, socioeconomic, dietary, and health-related data. Exploratory Data Analysis of this data can provide some insight into the US Health System and the resulting Health Outcomes of the system. This can also be Used to shed light on and Investigate Health Disparities/Inequities in the Healthcare System. However, if you do not possess the technical know-how on extracting, analyzing, and visualizing NHANES data, for example, knowledge of SAS (an innovative Analytics, Artificial Intelligence, and Data Management software), which is the format that the data is in, I would imagine that if you’re not some sort of a Data Analyst or Data Scientist the data is useless. \n",
    "\n",
    "\n",
    "The goal/idea or solution that is being presented by the research project is an interactive data visualization tool on the NHANES data. This  User-friendly, no need for IT support, interactive Data Visualization tool/dashboard. This would Aid anyone with an internet connection (so  doctors, nurses, healthcare professionals and providers, health insurance providers, Health Department officials, regular people, etc.) to visualize, gain insight from the data, and make data-driven decisions on the subject matter (Health disparities and inequities). \n",
    "\n",
    "1. **Project Objectve/Define Business Requirement** \n",
    "  > Creating an Interactive Data Visualisation (Dashboard) of the NHANES data using Python and Streamlit.\n",
    "2. **Data Collecton**\n",
    "  > Since we dont have access to the database where the NHANES data s housed, we are going to devise a plan to programatically down load the data from the NHANES website. As stated we are going to look at selected Data Files that have a direct relation to the subject matter and is present in at least 9 cycles (the survey cycles) starting from 1999 to 2018.\n",
    "3. **Data Cleaning and Preparation** \n",
    "  > This is going to involve first, cleaning each data file per survey cycle, then joining the same data files from each cycle to gether. The data cleaning will also involve determining which features/attributes/columns in the data files are of mosts relevance to the subject matter. Then we will create a table/dataframe that have the the `\"SAS Label\"` licked to the data file columns. Finally here, we will merge all the data files in to one dataframe using the `\"SEQN - Respondent sequence number\"` as the reference. Since some of the columns are numerically encoded, another Data frame is going to be create that links the `\"Code or Value\"` of each column to its `\"Value Description\"`.\n",
    "4. **Data Exploration and Analysis**\n",
    "  > EDA is the process of performing investigations on data to discover patterns, anomalies, testing hypothesis and cheking assumptions, which we might intially have of the data, using summary statistics and graphical representations. This part of the project is basically for exploring/investigating the data and figuring out what we can do with it. Here, we will explore the different visualizations that we can create from the data and what insight can be generalized from these Visualization (and the data at large).\n",
    "5. **Minimal Viable Model**\n",
    "6. **Deployment and Enhancements** \n"
   ]
  },
  {
   "cell_type": "code",
   "execution_count": 1,
   "metadata": {
    "id": "gfNGOmGabOEg"
   },
   "outputs": [],
   "source": [
    "from bs4 import BeautifulSoup\n",
    "import requests\n",
    "import pandas as pd\n",
    "import plotly.express as px\n",
    "import warnings\n",
    "warnings.filterwarnings('ignore')"
   ]
  },
  {
   "cell_type": "markdown",
   "metadata": {
    "id": "jM9Jz4pJbafW"
   },
   "source": [
    "## **Data collection**"
   ]
  },
  {
   "cell_type": "markdown",
   "metadata": {
    "id": "qAeyzxXedsAC"
   },
   "source": [
    "As mentioned above, the data from the NHANES is collected in 2 year cycles."
   ]
  },
  {
   "cell_type": "code",
   "execution_count": 2,
   "metadata": {
    "colab": {
     "base_uri": "https://localhost:8080/"
    },
    "id": "Ubn-izvEba_U",
    "outputId": "e1d74e5c-fb66-4f9f-84b0-629de42dcaaf"
   },
   "outputs": [
    {
     "data": {
      "text/plain": [
       "['1999-2000',\n",
       " '2001-2002',\n",
       " '2003-2004',\n",
       " '2005-2006',\n",
       " '2007-2008',\n",
       " '2009-2010',\n",
       " '2011-2012',\n",
       " '2013-2014',\n",
       " '2015-2016',\n",
       " '2017-2018']"
      ]
     },
     "execution_count": 2,
     "metadata": {},
     "output_type": "execute_result"
    }
   ],
   "source": [
    "#creating a list of the survey cycles that we are going to be collecting the data\n",
    "cycle_list = list()\n",
    "a = 1999\n",
    "b = 2000\n",
    "for i in range(10):\n",
    "  cycle_list.append(f\"{a}-{b}\")\n",
    "  a = b + 1\n",
    "  b = b + 2\n",
    "\n",
    "cycle_list"
   ]
  },
  {
   "cell_type": "markdown",
   "metadata": {
    "id": "280QK-5GbjDT"
   },
   "source": [
    "### **Data Variable Names**"
   ]
  },
  {
   "cell_type": "markdown",
   "metadata": {
    "id": "eEe5OtQrdGeS"
   },
   "source": [
    "**Demographic Variables**"
   ]
  },
  {
   "cell_type": "code",
   "execution_count": 3,
   "metadata": {
    "id": "kmcy4osmbjt6"
   },
   "outputs": [],
   "source": [
    "#Demography variable URL from the NHANES\n",
    "demographics_url = \"https://wwwn.cdc.gov/nchs/nhanes/search/variablelist.aspx?Component=demographics\""
   ]
  },
  {
   "cell_type": "code",
   "execution_count": 4,
   "metadata": {
    "id": "uSFAbce0y35C"
   },
   "outputs": [],
   "source": [
    "def get_variable_df(url, cycle_list = cycle_list):\n",
    "  \"\"\"\n",
    "  This fuction inputs the NHANES URL for Variable list \n",
    "  The Pandas' pandas.read_html() fuction is used to read tables on the URL\n",
    "  Resulting data frame is then cleaned (adding a year column and removing some other columns not needed)\n",
    "  Year column matches the survey cycle periods\n",
    "  Cycle list is used to filter the data to just the cycle of interest \n",
    "  Returns the data frame of the variable  \n",
    "  \"\"\"\n",
    "  dfs = pd.read_html(url)\n",
    "  df = dfs[0] #the table of interest in on the index 0\n",
    "\n",
    "  Years = [i for i in  range(len(df))]\n",
    "  df[\"Years\"] = Years \n",
    "  for i in range(len(df)):\n",
    "    x = df['Begin Year'][i]\n",
    "    y = df['EndYear'][i]\n",
    "    df[\"Years\"][i] = f\"{x}-{y}\"\n",
    "  df.drop([\"Begin Year\", \"EndYear\", \"Component\",\"Use Constraints\"], axis=1, inplace=True)\n",
    "  df = df.loc[df[\"Years\"].isin(cycle_list)]\n",
    "  df.reset_index(drop=True, inplace=True)\n",
    "\n",
    "  return df"
   ]
  },
  {
   "cell_type": "code",
   "execution_count": 5,
   "metadata": {
    "colab": {
     "base_uri": "https://localhost:8080/",
     "height": 204
    },
    "id": "e3Qmee2zz-Fy",
    "outputId": "40371199-79ca-43a2-f8bc-ebf005d1d228"
   },
   "outputs": [
    {
     "data": {
      "text/html": [
       "<div>\n",
       "<style scoped>\n",
       "    .dataframe tbody tr th:only-of-type {\n",
       "        vertical-align: middle;\n",
       "    }\n",
       "\n",
       "    .dataframe tbody tr th {\n",
       "        vertical-align: top;\n",
       "    }\n",
       "\n",
       "    .dataframe thead th {\n",
       "        text-align: right;\n",
       "    }\n",
       "</style>\n",
       "<table border=\"1\" class=\"dataframe\">\n",
       "  <thead>\n",
       "    <tr style=\"text-align: right;\">\n",
       "      <th></th>\n",
       "      <th>Variable Name</th>\n",
       "      <th>Variable Description</th>\n",
       "      <th>Data File Name</th>\n",
       "      <th>Data File Description</th>\n",
       "      <th>Years</th>\n",
       "    </tr>\n",
       "  </thead>\n",
       "  <tbody>\n",
       "    <tr>\n",
       "      <th>0</th>\n",
       "      <td>AIALANG</td>\n",
       "      <td>Language of the MEC ACASI Interview Instrument</td>\n",
       "      <td>DEMO_D</td>\n",
       "      <td>Demographic Variables &amp; Sample Weights</td>\n",
       "      <td>2005-2006</td>\n",
       "    </tr>\n",
       "    <tr>\n",
       "      <th>1</th>\n",
       "      <td>DMDBORN</td>\n",
       "      <td>In what country {were you/was SP} born?</td>\n",
       "      <td>DEMO_D</td>\n",
       "      <td>Demographic Variables &amp; Sample Weights</td>\n",
       "      <td>2005-2006</td>\n",
       "    </tr>\n",
       "    <tr>\n",
       "      <th>2</th>\n",
       "      <td>DMDCITZN</td>\n",
       "      <td>{Are you/Is SP} a citizen of the United States...</td>\n",
       "      <td>DEMO_D</td>\n",
       "      <td>Demographic Variables &amp; Sample Weights</td>\n",
       "      <td>2005-2006</td>\n",
       "    </tr>\n",
       "    <tr>\n",
       "      <th>3</th>\n",
       "      <td>DMDEDUC2</td>\n",
       "      <td>(SP Interview Version) What is the highest gra...</td>\n",
       "      <td>DEMO_D</td>\n",
       "      <td>Demographic Variables &amp; Sample Weights</td>\n",
       "      <td>2005-2006</td>\n",
       "    </tr>\n",
       "    <tr>\n",
       "      <th>4</th>\n",
       "      <td>DMDEDUC3</td>\n",
       "      <td>(SP Interview Version) What is the highest gra...</td>\n",
       "      <td>DEMO_D</td>\n",
       "      <td>Demographic Variables &amp; Sample Weights</td>\n",
       "      <td>2005-2006</td>\n",
       "    </tr>\n",
       "  </tbody>\n",
       "</table>\n",
       "</div>"
      ],
      "text/plain": [
       "  Variable Name                               Variable Description  \\\n",
       "0       AIALANG     Language of the MEC ACASI Interview Instrument   \n",
       "1       DMDBORN            In what country {were you/was SP} born?   \n",
       "2      DMDCITZN  {Are you/Is SP} a citizen of the United States...   \n",
       "3      DMDEDUC2  (SP Interview Version) What is the highest gra...   \n",
       "4      DMDEDUC3  (SP Interview Version) What is the highest gra...   \n",
       "\n",
       "  Data File Name                   Data File Description      Years  \n",
       "0         DEMO_D  Demographic Variables & Sample Weights  2005-2006  \n",
       "1         DEMO_D  Demographic Variables & Sample Weights  2005-2006  \n",
       "2         DEMO_D  Demographic Variables & Sample Weights  2005-2006  \n",
       "3         DEMO_D  Demographic Variables & Sample Weights  2005-2006  \n",
       "4         DEMO_D  Demographic Variables & Sample Weights  2005-2006  "
      ]
     },
     "execution_count": 5,
     "metadata": {},
     "output_type": "execute_result"
    }
   ],
   "source": [
    "#we call the get_variable_df fuction for the demography URL\n",
    "demographics_var_df = get_variable_df(demographics_url)\n",
    "demographics_var_df.head()"
   ]
  },
  {
   "cell_type": "code",
   "execution_count": 6,
   "metadata": {
    "id": "RSfVQdpq0kyI"
   },
   "outputs": [],
   "source": [
    "def check_variable(data_frame):\n",
    "  \"\"\"\n",
    "  This fuction look at the variables if they are in all cycles or not \n",
    "  If the variable is present in all 10 cycles append it to a list for later use\n",
    "  \"\"\"\n",
    "  variable_list = list()\n",
    "  new_list = list((dict(data_frame['Variable Name'].value_counts())).keys())\n",
    "  for i in range(len(new_list)):\n",
    "    temp = data_frame[data_frame[\"Variable Name\"] == f\"{new_list[i]}\"]\n",
    "    temp = temp.reset_index(drop=True)\n",
    "    if temp.shape[0] > 5:#the variable has to be in all the years that we are looking at\n",
    "      variable_list.append(new_list[i])\n",
    "      print(f\"the variable name: {new_list[i]}\")\n",
    "      print(f\"the variable description is: {temp['Variable Description'][0]}\")\n",
    "      print(f\"there are {temp.shape[0]} examples of this variable\")\n",
    "      print(\"#################################################################\")\n",
    "  \n",
    "  return variable_list"
   ]
  },
  {
   "cell_type": "code",
   "execution_count": 7,
   "metadata": {
    "colab": {
     "base_uri": "https://localhost:8080/"
    },
    "id": "EzjB7lGm6yvm",
    "outputId": "7119dca8-e43b-4ee2-d688-8aea67783a73"
   },
   "outputs": [
    {
     "name": "stdout",
     "output_type": "stream",
     "text": [
      "the variable name: INDFMPIR\n",
      "the variable description is: Poverty income ratio (PIR) - a ratio of family income to poverty threshold\n",
      "there are 10 examples of this variable\n",
      "#################################################################\n",
      "the variable name: DMDYRSUS\n",
      "the variable description is: Length of time SP has been in the US.\n",
      "there are 10 examples of this variable\n",
      "#################################################################\n",
      "the variable name: WTINT2YR\n",
      "the variable description is: Interviewed Sample Persons.\n",
      "there are 10 examples of this variable\n",
      "#################################################################\n",
      "the variable name: SEQN\n",
      "the variable description is: Respondent sequence number.\n",
      "there are 10 examples of this variable\n",
      "#################################################################\n",
      "the variable name: SDMVSTRA\n",
      "the variable description is: Masked Variance Unit Pseudo-Stratum variable for variance estimation\n",
      "there are 10 examples of this variable\n",
      "#################################################################\n",
      "the variable name: SDMVPSU\n",
      "the variable description is: Masked Variance Unit Pseudo-PSU variable for variance estimation\n",
      "there are 10 examples of this variable\n",
      "#################################################################\n",
      "the variable name: SDDSRVYR\n",
      "the variable description is: Data Release Number.\n",
      "there are 10 examples of this variable\n",
      "#################################################################\n",
      "the variable name: RIDSTATR\n",
      "the variable description is: Interview and Examination Status of the Sample Person.\n",
      "there are 10 examples of this variable\n",
      "#################################################################\n",
      "the variable name: RIDRETH1\n",
      "the variable description is: Recode of reported race and ethnicity information.\n",
      "there are 10 examples of this variable\n",
      "#################################################################\n",
      "the variable name: RIDEXPRG\n",
      "the variable description is: Pregnancy status at the time of MEC exam.\n",
      "there are 10 examples of this variable\n",
      "#################################################################\n",
      "the variable name: RIDEXMON\n",
      "the variable description is: Six month time period when the examination was performed - two categories: November 1 through April 30, May 1 through October 31.\n",
      "there are 10 examples of this variable\n",
      "#################################################################\n",
      "the variable name: RIDAGEYR\n",
      "the variable description is: Best age in years of the sample person at time of HH screening. Individuals 85 and over are topcoded at 85 years of age.\n",
      "there are 10 examples of this variable\n",
      "#################################################################\n",
      "the variable name: RIDAGEMN\n",
      "the variable description is: Best age in months at date of screening for individuals under 85 years of age.\n",
      "there are 10 examples of this variable\n",
      "#################################################################\n",
      "the variable name: RIAGENDR\n",
      "the variable description is: Gender of the sample person\n",
      "there are 10 examples of this variable\n",
      "#################################################################\n",
      "the variable name: WTMEC2YR\n",
      "the variable description is: Both Interviewed and MEC Examined Sample Persons.\n",
      "there are 10 examples of this variable\n",
      "#################################################################\n",
      "the variable name: DMDCITZN\n",
      "the variable description is: {Are you/Is SP} a citizen of the United States? [Information about citizenship is being collected by the U.S. Public Health Service to perform health related research. Providing this information is voluntary and is collected under the authority of the Public Health Service Act. There will be no effect on pending immigration or citizenship petitions.]\n",
      "there are 10 examples of this variable\n",
      "#################################################################\n",
      "the variable name: DMDEDUC2\n",
      "the variable description is: (SP Interview Version) What is the highest grade or level of school {you have/SP has} completed or the highest degree {you have/s/he has} received?\n",
      "there are 10 examples of this variable\n",
      "#################################################################\n",
      "the variable name: DMDEDUC3\n",
      "the variable description is: (SP Interview Version) What is the highest grade or level of school {you have/SP has} completed or the highest degree {you have/s/he has} received?\n",
      "there are 10 examples of this variable\n",
      "#################################################################\n",
      "the variable name: DMDHHSIZ\n",
      "the variable description is: Total number of people in the Household\n",
      "there are 10 examples of this variable\n",
      "#################################################################\n",
      "the variable name: DMDMARTL\n",
      "the variable description is: Marital Status\n",
      "there are 10 examples of this variable\n",
      "#################################################################\n",
      "the variable name: DMDHRGND\n",
      "the variable description is: Gender of the household reference person\n",
      "there are 10 examples of this variable\n",
      "#################################################################\n",
      "the variable name: DMDHRMAR\n",
      "the variable description is: Marital Status of household reference person\n",
      "there are 9 examples of this variable\n",
      "#################################################################\n",
      "the variable name: DMDHSEDU\n",
      "the variable description is: What is the highest grade or level of school {you have/NON-SP SPOUSE has completed or the highest degree {you have/he/she has} received\n",
      "there are 9 examples of this variable\n",
      "#################################################################\n",
      "the variable name: DMDHRAGE\n",
      "the variable description is: Age in years of the household reference person at the time of HH screening. Individuals 85 and over are topcoded at 85 years of age.\n",
      "there are 9 examples of this variable\n",
      "#################################################################\n",
      "the variable name: DMDHREDU\n",
      "the variable description is: What is the highest grade or level of school {you have/NON_SP HEAD has} received?\n",
      "there are 9 examples of this variable\n",
      "#################################################################\n",
      "the variable name: SIAPROXY\n",
      "the variable description is: Was a Proxy respondent used in conducting the Sample Person (SP) interview?\n",
      "there are 8 examples of this variable\n",
      "#################################################################\n",
      "the variable name: SIALANG\n",
      "the variable description is: Language of the Sample Person Interview Instrument\n",
      "there are 8 examples of this variable\n",
      "#################################################################\n",
      "the variable name: SIAINTRP\n",
      "the variable description is: Was an interpreter used to conduct the Sample Person (SP) interview?\n",
      "there are 8 examples of this variable\n",
      "#################################################################\n",
      "the variable name: MIAPROXY\n",
      "the variable description is: Was a Proxy respondent used in conducting the MEC CAPI Interview?\n",
      "there are 8 examples of this variable\n",
      "#################################################################\n",
      "the variable name: MIALANG\n",
      "the variable description is: Language of the CAPI MEC Interview Instrument\n",
      "there are 8 examples of this variable\n",
      "#################################################################\n",
      "the variable name: MIAINTRP\n",
      "the variable description is: Was an interpreter used to conduct the MEC CAPI interview?\n",
      "there are 8 examples of this variable\n",
      "#################################################################\n",
      "the variable name: FIAPROXY\n",
      "the variable description is: Was a Proxy respondent used in conducting the Family Interview?\n",
      "there are 8 examples of this variable\n",
      "#################################################################\n",
      "the variable name: FIALANG\n",
      "the variable description is: Language of the Family Interview Instrument\n",
      "there are 8 examples of this variable\n",
      "#################################################################\n",
      "the variable name: FIAINTRP\n",
      "the variable description is: Was an interpreter used to conduct the Family interview?\n",
      "there are 8 examples of this variable\n",
      "#################################################################\n",
      "the variable name: DMDFMSIZ\n",
      "the variable description is: Total number of people in the Family\n",
      "there are 7 examples of this variable\n",
      "#################################################################\n",
      "the variable name: DMQMILIT\n",
      "the variable description is: Did {you/SP} ever serve in the Armed Forces of the United States?\n",
      "there are 6 examples of this variable\n",
      "#################################################################\n",
      "the variable name: RIDAGEEX\n",
      "the variable description is: Best age in months at date of examination for individuals under 85 years of age at screening.\n",
      "there are 6 examples of this variable\n",
      "#################################################################\n",
      "the variable name: INDFMIN2\n",
      "the variable description is: Total family income (reported as a range value in dollars)\n",
      "there are 6 examples of this variable\n",
      "#################################################################\n",
      "the variable name: INDHHIN2\n",
      "the variable description is: Total household income (reported as a range value in dollars)\n",
      "there are 6 examples of this variable\n",
      "#################################################################\n",
      "the variable name: DMDSCHOL\n",
      "the variable description is: {Are you/Is SP} now . . .\n",
      "there are 6 examples of this variable\n",
      "#################################################################\n"
     ]
    }
   ],
   "source": [
    "#so we check the variable in the demography dataframe \n",
    "variable_list = check_variable(demographics_var_df)"
   ]
  },
  {
   "cell_type": "code",
   "execution_count": 8,
   "metadata": {
    "colab": {
     "base_uri": "https://localhost:8080/",
     "height": 204
    },
    "id": "Vp8h6Mrj6ysd",
    "outputId": "c7f4af84-a6a0-495e-baa8-16ba6feb82cc"
   },
   "outputs": [
    {
     "data": {
      "text/html": [
       "<div>\n",
       "<style scoped>\n",
       "    .dataframe tbody tr th:only-of-type {\n",
       "        vertical-align: middle;\n",
       "    }\n",
       "\n",
       "    .dataframe tbody tr th {\n",
       "        vertical-align: top;\n",
       "    }\n",
       "\n",
       "    .dataframe thead th {\n",
       "        text-align: right;\n",
       "    }\n",
       "</style>\n",
       "<table border=\"1\" class=\"dataframe\">\n",
       "  <thead>\n",
       "    <tr style=\"text-align: right;\">\n",
       "      <th></th>\n",
       "      <th>Variable Name</th>\n",
       "      <th>Variable Description</th>\n",
       "      <th>Data File Name</th>\n",
       "      <th>Data File Description</th>\n",
       "      <th>Years</th>\n",
       "    </tr>\n",
       "  </thead>\n",
       "  <tbody>\n",
       "    <tr>\n",
       "      <th>0</th>\n",
       "      <td>DMDCITZN</td>\n",
       "      <td>{Are you/Is SP} a citizen of the United States...</td>\n",
       "      <td>DEMO_D</td>\n",
       "      <td>Demographic Variables &amp; Sample Weights</td>\n",
       "      <td>2005-2006</td>\n",
       "    </tr>\n",
       "    <tr>\n",
       "      <th>1</th>\n",
       "      <td>DMDEDUC2</td>\n",
       "      <td>(SP Interview Version) What is the highest gra...</td>\n",
       "      <td>DEMO_D</td>\n",
       "      <td>Demographic Variables &amp; Sample Weights</td>\n",
       "      <td>2005-2006</td>\n",
       "    </tr>\n",
       "    <tr>\n",
       "      <th>2</th>\n",
       "      <td>DMDEDUC3</td>\n",
       "      <td>(SP Interview Version) What is the highest gra...</td>\n",
       "      <td>DEMO_D</td>\n",
       "      <td>Demographic Variables &amp; Sample Weights</td>\n",
       "      <td>2005-2006</td>\n",
       "    </tr>\n",
       "    <tr>\n",
       "      <th>3</th>\n",
       "      <td>DMDFMSIZ</td>\n",
       "      <td>Total number of people in the Family</td>\n",
       "      <td>DEMO_D</td>\n",
       "      <td>Demographic Variables &amp; Sample Weights</td>\n",
       "      <td>2005-2006</td>\n",
       "    </tr>\n",
       "    <tr>\n",
       "      <th>4</th>\n",
       "      <td>DMDHHSIZ</td>\n",
       "      <td>Total number of people in the Household</td>\n",
       "      <td>DEMO_D</td>\n",
       "      <td>Demographic Variables &amp; Sample Weights</td>\n",
       "      <td>2005-2006</td>\n",
       "    </tr>\n",
       "  </tbody>\n",
       "</table>\n",
       "</div>"
      ],
      "text/plain": [
       "  Variable Name                               Variable Description  \\\n",
       "0      DMDCITZN  {Are you/Is SP} a citizen of the United States...   \n",
       "1      DMDEDUC2  (SP Interview Version) What is the highest gra...   \n",
       "2      DMDEDUC3  (SP Interview Version) What is the highest gra...   \n",
       "3      DMDFMSIZ               Total number of people in the Family   \n",
       "4      DMDHHSIZ            Total number of people in the Household   \n",
       "\n",
       "  Data File Name                   Data File Description      Years  \n",
       "0         DEMO_D  Demographic Variables & Sample Weights  2005-2006  \n",
       "1         DEMO_D  Demographic Variables & Sample Weights  2005-2006  \n",
       "2         DEMO_D  Demographic Variables & Sample Weights  2005-2006  \n",
       "3         DEMO_D  Demographic Variables & Sample Weights  2005-2006  \n",
       "4         DEMO_D  Demographic Variables & Sample Weights  2005-2006  "
      ]
     },
     "execution_count": 8,
     "metadata": {},
     "output_type": "execute_result"
    }
   ],
   "source": [
    "#we are going to remove the below variable from the variable list as they are of no use here\n",
    "variable_list = [ele for ele in variable_list if ele not in [\"RIDEXMON\", \"WTINT2YR\", \"SDMVSTRA\", \"RIDSTATR\", \"WTMEC2YR\"]]\n",
    "\n",
    "#we use the variable list to filter the demography variable dataframe\n",
    "demographics_var_df =  demographics_var_df.loc[demographics_var_df[\"Variable Name\"].isin(variable_list)]\n",
    "demographics_var_df.reset_index(drop=True, inplace=True)\n",
    "demographics_var_df.head()"
   ]
  },
  {
   "cell_type": "code",
   "execution_count": null,
   "metadata": {
    "id": "AnMBVJ-EDhbS"
   },
   "outputs": [],
   "source": []
  },
  {
   "cell_type": "markdown",
   "metadata": {
    "id": "mu_GcmMp_87o"
   },
   "source": [
    "Next we collect the variiable documentation. This documentation describes what each of the variables is and the encoding in the actual data file."
   ]
  },
  {
   "cell_type": "code",
   "execution_count": null,
   "metadata": {
    "id": "71nxOe7P6ypm"
   },
   "outputs": [],
   "source": []
  },
  {
   "cell_type": "code",
   "execution_count": 9,
   "metadata": {
    "id": "3R1vIBsJ6ymQ"
   },
   "outputs": [],
   "source": [
    "def get_variable_documentation(data_File_Name, cycle = cycle_list[0], variable_list = variable_list):\n",
    "  \"\"\"\n",
    "  This fuction goes to the  NHANES Data Documentation for the input data_file_name with the help of BeautifulSoup\n",
    "  Three dictionaries are created for the code table, sas label and the english text (variable explanation)\n",
    "  The fuction then returns the dictionaries. \n",
    "  \"\"\"\n",
    "  url = f\"https://wwwn.cdc.gov/Nchs/Nhanes/{cycle}/{data_File_Name}.htm\"\n",
    "  varibale_code_table = dict()\n",
    "  variable_sas_label = dict()\n",
    "  variable_English_Text = dict()\n",
    "  \n",
    "  req=requests.get(url)\n",
    "  content=req.text\n",
    "  soup = BeautifulSoup(content)\n",
    "\n",
    "  mydivs = soup.find_all(\"div\", {\"class\": \"pagebreak\"})\n",
    "  for i, div in enumerate(mydivs):\n",
    "    x = div.find_all_next()\n",
    "    variable = x[0][\"id\"]\n",
    "    if variable in variable_list:\n",
    "      #print(variable)\n",
    "      #print(f\"{x[2].text}{x[3].text}\")\n",
    "      variable_sas_label[variable] = x[5].text\n",
    "      #print(f\"{x[4].text}{x[5].text}\")\n",
    "      variable_English_Text[variable] = {x[7].text}\n",
    "      #print(f\"{x[6].text}{x[7].text}\")\n",
    "      if div.find(\"table\") is not None:\n",
    "        table = pd.read_html(str(div.find('table')))[0]\n",
    "        varibale_code_table[variable] = table\n",
    "        #print(data_frame[i-1])\n",
    "      #print(\"#####################\")\n",
    "\n",
    "  return varibale_code_table, variable_sas_label, variable_English_Text\n",
    " \n"
   ]
  },
  {
   "cell_type": "code",
   "execution_count": 10,
   "metadata": {
    "id": "KKsGkC4cSaCk"
   },
   "outputs": [],
   "source": [
    "#code we will call the get_variable_documentation fuction \n",
    "demography_varibale_code_table, demography_variable_sas_label, demography_variable_English_Text = get_variable_documentation(\"DEMO\")"
   ]
  },
  {
   "cell_type": "code",
   "execution_count": null,
   "metadata": {
    "id": "9SNvNfpJT2v5"
   },
   "outputs": [],
   "source": []
  },
  {
   "cell_type": "markdown",
   "metadata": {
    "id": "s_T76_mqyo4i"
   },
   "source": [
    "**Questionnaire Variables**"
   ]
  },
  {
   "cell_type": "markdown",
   "metadata": {
    "id": "MuSnzv5sozHS"
   },
   "source": [
    "We are first going to select the Data File the are present in all of the 10 survey cycles. After selecting those, we will go through each selecting variables that are of importance to this project."
   ]
  },
  {
   "cell_type": "code",
   "execution_count": 11,
   "metadata": {
    "colab": {
     "base_uri": "https://localhost:8080/",
     "height": 204
    },
    "id": "CVK80_OJ2y7q",
    "outputId": "dbdcf411-e39b-44c8-80d1-02bf708e3a91"
   },
   "outputs": [
    {
     "data": {
      "text/html": [
       "<div>\n",
       "<style scoped>\n",
       "    .dataframe tbody tr th:only-of-type {\n",
       "        vertical-align: middle;\n",
       "    }\n",
       "\n",
       "    .dataframe tbody tr th {\n",
       "        vertical-align: top;\n",
       "    }\n",
       "\n",
       "    .dataframe thead th {\n",
       "        text-align: right;\n",
       "    }\n",
       "</style>\n",
       "<table border=\"1\" class=\"dataframe\">\n",
       "  <thead>\n",
       "    <tr style=\"text-align: right;\">\n",
       "      <th></th>\n",
       "      <th>Variable Name</th>\n",
       "      <th>Variable Description</th>\n",
       "      <th>Data File Name</th>\n",
       "      <th>Data File Description</th>\n",
       "      <th>Years</th>\n",
       "    </tr>\n",
       "  </thead>\n",
       "  <tbody>\n",
       "    <tr>\n",
       "      <th>0</th>\n",
       "      <td>ACD010A</td>\n",
       "      <td>What language(s) {do you/does SP} usually spea...</td>\n",
       "      <td>ACQ_D</td>\n",
       "      <td>Acculturation</td>\n",
       "      <td>2005-2006</td>\n",
       "    </tr>\n",
       "    <tr>\n",
       "      <th>1</th>\n",
       "      <td>ACD010B</td>\n",
       "      <td>What language(s) {do you/does SP} usually spea...</td>\n",
       "      <td>ACQ_D</td>\n",
       "      <td>Acculturation</td>\n",
       "      <td>2005-2006</td>\n",
       "    </tr>\n",
       "    <tr>\n",
       "      <th>2</th>\n",
       "      <td>ACD010C</td>\n",
       "      <td>What language(s) {do you/does SP} usually spea...</td>\n",
       "      <td>ACQ_D</td>\n",
       "      <td>Acculturation</td>\n",
       "      <td>2005-2006</td>\n",
       "    </tr>\n",
       "    <tr>\n",
       "      <th>3</th>\n",
       "      <td>ACD040</td>\n",
       "      <td>Now I'm going to ask you about language use. W...</td>\n",
       "      <td>ACQ_D</td>\n",
       "      <td>Acculturation</td>\n",
       "      <td>2005-2006</td>\n",
       "    </tr>\n",
       "    <tr>\n",
       "      <th>4</th>\n",
       "      <td>SEQN</td>\n",
       "      <td>Respondent sequence number.</td>\n",
       "      <td>ACQ_D</td>\n",
       "      <td>Acculturation</td>\n",
       "      <td>2005-2006</td>\n",
       "    </tr>\n",
       "  </tbody>\n",
       "</table>\n",
       "</div>"
      ],
      "text/plain": [
       "  Variable Name                               Variable Description  \\\n",
       "0       ACD010A  What language(s) {do you/does SP} usually spea...   \n",
       "1       ACD010B  What language(s) {do you/does SP} usually spea...   \n",
       "2       ACD010C  What language(s) {do you/does SP} usually spea...   \n",
       "3        ACD040  Now I'm going to ask you about language use. W...   \n",
       "4          SEQN                        Respondent sequence number.   \n",
       "\n",
       "  Data File Name Data File Description      Years  \n",
       "0          ACQ_D         Acculturation  2005-2006  \n",
       "1          ACQ_D         Acculturation  2005-2006  \n",
       "2          ACQ_D         Acculturation  2005-2006  \n",
       "3          ACQ_D         Acculturation  2005-2006  \n",
       "4          ACQ_D         Acculturation  2005-2006  "
      ]
     },
     "execution_count": 11,
     "metadata": {},
     "output_type": "execute_result"
    }
   ],
   "source": [
    "questionnaire_url = \"https://wwwn.cdc.gov/nchs/nhanes/search/variablelist.aspx?Component=questionnaire\"\n",
    "questionnaire_var_df = get_variable_df(questionnaire_url)\n",
    "questionnaire_var_df.drop(questionnaire_var_df[questionnaire_var_df['Data File Name'] == \"OCQ_H_R\"].index, inplace = True)\n",
    "questionnaire_var_df.reset_index(drop=True, inplace=True)\n",
    "questionnaire_var_df.head()"
   ]
  },
  {
   "cell_type": "code",
   "execution_count": null,
   "metadata": {
    "id": "ee63RhKpAWhf"
   },
   "outputs": [],
   "source": []
  },
  {
   "cell_type": "code",
   "execution_count": 12,
   "metadata": {
    "colab": {
     "base_uri": "https://localhost:8080/"
    },
    "id": "SfH3z_wS2y1t",
    "outputId": "858d29eb-0005-4c08-e6f4-c6cc20a3550a"
   },
   "outputs": [
    {
     "data": {
      "text/plain": [
       "['Current Health Status',\n",
       " 'Medical Conditions',\n",
       " 'Physical Activity',\n",
       " 'Health Insurance',\n",
       " 'Hospital Utilization & Access to Care',\n",
       " 'Housing Characteristics',\n",
       " 'Occupation',\n",
       " 'Income']"
      ]
     },
     "execution_count": 12,
     "metadata": {},
     "output_type": "execute_result"
    }
   ],
   "source": [
    "questionnaire_data_file_list = list()\n",
    "for string_key in list(questionnaire_var_df[\"Data File Description\"].unique()):\n",
    "  if string_key not in [\"Dermatology\",\n",
    "                        'Blood Pressure & Cholesterol',\n",
    "                        'Diet Behavior & Nutrition',\n",
    "                        'Immunization',\n",
    "                        'Kidney Conditions - Urology',\n",
    "                        'Oral Health',\n",
    "                        'Physical Functioning',\n",
    "                        'Pesticide Use',\n",
    "                        'Smoking - Household Smokers',\n",
    "                        'Weight History',\n",
    "                        'Respiratory Health',\n",
    "                        'Sexual Behavior',\n",
    "                        'Diabetes',\n",
    "                        'Drug Use',\n",
    "                        'Reproductive Health',\n",
    "                        'Consumer Behavior',\n",
    "                        'Food Security',\n",
    "                        \"Sexual Behavior - Youth\", \n",
    "                        \"Acculturation\", \n",
    "                        \"Alcohol Use\",\n",
    "                        \"Audiometry\", \n",
    "                        \"Prescription Medications\",\n",
    "                        \"Cardiovascular Health\", \n",
    "                        \"Early Childhood\"]:\n",
    "    a = len(questionnaire_var_df[questionnaire_var_df[\"Data File Description\"] == string_key][\"Years\"].value_counts())\n",
    "    if a >=9 or string_key in [\"Respiratory Health\",\"Consumer Behavior\",\"Income\"]:\n",
    "      questionnaire_data_file_list.append(string_key)\n",
    "questionnaire_data_file_list"
   ]
  },
  {
   "cell_type": "markdown",
   "metadata": {
    "id": "BpHhELk1Ctyh"
   },
   "source": [
    "Now that we have this data file list, we can go through it file name by file name selecting the variable that of more interest to this project "
   ]
  },
  {
   "cell_type": "code",
   "execution_count": null,
   "metadata": {
    "id": "9Y7rfsYvmwqI"
   },
   "outputs": [],
   "source": []
  },
  {
   "cell_type": "code",
   "execution_count": 13,
   "metadata": {
    "id": "z6Ak5G5hCv3H"
   },
   "outputs": [],
   "source": [
    "def return_temp_df(data_File_Name):\n",
    "  \"\"\"\n",
    "  This fuction filters the questionnaire_var_df using the input data file name and returns the resulting dataframe\n",
    "  \"\"\"\n",
    "  print(f\"The data frame is for {data_File_Name}\")\n",
    "  df = questionnaire_var_df[questionnaire_var_df[\"Data File Description\"] == data_File_Name]\n",
    "  df.reset_index(drop= True, inplace=True)\n",
    "  return df"
   ]
  },
  {
   "cell_type": "markdown",
   "metadata": {
    "id": "EsubySux4P5u"
   },
   "source": [
    "We need to create a dictionary that will house all the information about the variables. so for a particulart Data Category, we will have the varibale_code_table, variable_sas_label, variable_English_Text. So we will have these three in a list and then have that list in a dictionary."
   ]
  },
  {
   "cell_type": "code",
   "execution_count": 14,
   "metadata": {
    "id": "gyfHG5ACFYPK"
   },
   "outputs": [],
   "source": [
    "variable_documentation_dict = dict() #the keys will be the Data Category names\n",
    "#so we will add the Demography variable information first\n",
    "variable_documentation_dict[\"Demography\"] = [variable_list, demography_variable_sas_label,demography_variable_English_Text,demography_varibale_code_table]"
   ]
  },
  {
   "cell_type": "code",
   "execution_count": 15,
   "metadata": {
    "colab": {
     "base_uri": "https://localhost:8080/"
    },
    "id": "BoqrWHEAFYL3",
    "outputId": "2714b397-06c4-4e86-8157-3c06ce00ed2d"
   },
   "outputs": [
    {
     "name": "stdout",
     "output_type": "stream",
     "text": [
      "\n",
      "\n",
      "The data frame is for Current Health Status\n",
      "the variable name: HSAQUEX\n",
      "the variable description is: Source of Health Status Data\n",
      "there are 10 examples of this variable\n",
      "#################################################################\n",
      "the variable name: HSQ500\n",
      "the variable description is: Did {you/SP} have a head cold or chest cold that started during those 30 days?\n",
      "there are 10 examples of this variable\n",
      "#################################################################\n",
      "the variable name: HSQ510\n",
      "the variable description is: Did {you/SP} have a stomach or intestinal illness with vomiting or diarrhea that started during those 30 days?\n",
      "there are 10 examples of this variable\n",
      "#################################################################\n",
      "the variable name: HSQ520\n",
      "the variable description is: Did {you/SP} have flu, pneumonia, or ear infections that started during those 30 days?\n",
      "there are 10 examples of this variable\n",
      "#################################################################\n",
      "the variable name: HSQ580\n",
      "the variable description is: How long ago was {your/SP's} last blood donation?\n",
      "there are 10 examples of this variable\n",
      "#################################################################\n",
      "the variable name: HSQ590\n",
      "the variable description is: Except for tests {you/SP} may have had as part of blood donations, {have you/has he/has she} ever had {your/his/her} blood tested for the AIDS virus infection?\n",
      "there are 10 examples of this variable\n",
      "#################################################################\n",
      "the variable name: SEQN\n",
      "the variable description is: Respondent sequence number.\n",
      "there are 10 examples of this variable\n",
      "#################################################################\n",
      "the variable name: HSD010\n",
      "the variable description is: {First/Next} I have some general questions about {your/SP's} health. Would you say {your/SP's} health in general is . . .\n",
      "there are 9 examples of this variable\n",
      "#################################################################\n",
      "the variable name: HSQ571\n",
      "the variable description is: During the past 12 months, that is, since (DISPLAY CURRENT MONTH, DISPLAY LAST YEAR), a year ago, (have you/has SP) donated blood?\n",
      "there are 8 examples of this variable\n",
      "#################################################################\n",
      "the variable name: HSQ470\n",
      "the variable description is: The next set are of questions are about {your/SP's} recent health during the 30 days outlined on the calendar. Thinking about {your/SP's} physical health, which includes physical illness and injury, for how many days during the past 30 days was {your/his/her} physical health not good?\n",
      "there are 6 examples of this variable\n",
      "#################################################################\n",
      "the variable name: HSQ480\n",
      "the variable description is: Now thinking about {your/SP's} mental health, which includes stress, depression, and problems with emotions, for how many days during the past 30 days was {your/his/her} mental health not good?\n",
      "there are 6 examples of this variable\n",
      "#################################################################\n",
      "the variable name: HSQ490\n",
      "the variable description is: During the past 30 days, for about how many days did poor physical or mental health keep {you/SP} from doing {your/his/her} usual activities, such as self-care, work, school or recreation?\n",
      "there are 6 examples of this variable\n",
      "#################################################################\n",
      "This is the variable list: ['HSAQUEX', 'HSQ500', 'HSQ510', 'HSQ520', 'HSQ580', 'HSQ590', 'SEQN', 'HSD010', 'HSQ571', 'HSQ470', 'HSQ480', 'HSQ490'] \n",
      " \n",
      "\n",
      "\n",
      "\n",
      "The data frame is for Medical Conditions\n",
      "the variable name: MCD093\n",
      "the variable description is: In what year did {you/SP} receive {your/his/her} first transfusion?\n",
      "there are 10 examples of this variable\n",
      "#################################################################\n",
      "the variable name: MCQ050\n",
      "the variable description is: [During the past 12 months], {have you/has SP} had to visit an emergency room or urgent care center because of asthma?\n",
      "there are 10 examples of this variable\n",
      "#################################################################\n",
      "the variable name: MCQ220\n",
      "the variable description is: {Have you/Has SP} ever been told by a doctor or other health professional that {you/s/he} had cancer or a malignancy of any kind?\n",
      "there are 10 examples of this variable\n",
      "#################################################################\n",
      "the variable name: MCQ092\n",
      "the variable description is: {Have you/Has SP} ever received a blood transfusion?\n",
      "there are 10 examples of this variable\n",
      "#################################################################\n",
      "the variable name: MCQ053\n",
      "the variable description is: During the past 3 months, {have you/has SP} been on treatment for anemia, sometimes called \"tired blood\" or \"low blood\"? [Include diet, iron pills, iron shots, transfusions as treatment.]\n",
      "there are 10 examples of this variable\n",
      "#################################################################\n",
      "the variable name: SEQN\n",
      "the variable description is: Respondent sequence number.\n",
      "there are 10 examples of this variable\n",
      "#################################################################\n",
      "the variable name: MCQ080\n",
      "the variable description is: Has a doctor or other health professional ever told {you/SP} that {you were/s/he/SP was} overweight?\n",
      "there are 10 examples of this variable\n",
      "#################################################################\n",
      "the variable name: MCQ040\n",
      "the variable description is: During the past 12 months, {have you/has SP} had an episode of asthma or an asthma attack?\n",
      "there are 10 examples of this variable\n",
      "#################################################################\n",
      "the variable name: MCQ010\n",
      "the variable description is: Has a doctor or other health professional ever told {you/SP} that {you have/s/he/SP has} asthma?\n",
      "there are 10 examples of this variable\n",
      "#################################################################\n",
      "the variable name: MCQ035\n",
      "the variable description is: {Do you/Does SP} still have asthma?\n",
      "there are 9 examples of this variable\n",
      "#################################################################\n",
      "the variable name: MCQ025\n",
      "the variable description is: How old {were you/was SP} when {you were/s/he was} first told {he/she} had asthma?\n",
      "there are 9 examples of this variable\n",
      "#################################################################\n",
      "the variable name: MCQ149\n",
      "the variable description is: Have {SP's} periods or menstrual cycles started yet?\n",
      "there are 8 examples of this variable\n",
      "#################################################################\n",
      "the variable name: MCQ140\n",
      "the variable description is: {Do you/Does SP} have trouble seeing, even when wearing glasses or contact lenses, if {you/he/she} wear{s} them?\n",
      "there are 7 examples of this variable\n",
      "#################################################################\n",
      "the variable name: MCQ240D\n",
      "the variable description is: How old (were you/was SP) when brain cancer was first diagnosed?\n",
      "there are 6 examples of this variable\n",
      "#################################################################\n",
      "the variable name: MCQ240H\n",
      "the variable description is: How old (were you/was SP) when esophageal cancer was first diagnosed?\n",
      "there are 6 examples of this variable\n",
      "#################################################################\n",
      "the variable name: MCQ240G\n",
      "the variable description is: How old (were you/was SP) when colon cancer was first diagnosed?\n",
      "there are 6 examples of this variable\n",
      "#################################################################\n",
      "the variable name: MCQ240F\n",
      "the variable description is: How old (were you/was SP) when cervical cancer was first diagnosed?\n",
      "there are 6 examples of this variable\n",
      "#################################################################\n",
      "the variable name: MCQ240E\n",
      "the variable description is: How old (were you/was SP) when breast cancer was first diagnosed?\n",
      "there are 6 examples of this variable\n",
      "#################################################################\n",
      "the variable name: MCQ240DD\n",
      "the variable description is: How old (were you/was SP) when some other type of cancer was first diagnosed?\n",
      "there are 6 examples of this variable\n",
      "#################################################################\n",
      "the variable name: MCQ240A\n",
      "the variable description is: How old {were you/was SP} when {TYPE OF CANCER/cancer} was first diagnosed? How old (were you/was SP) when bladder cancer was first diagnosed?\n",
      "there are 6 examples of this variable\n",
      "#################################################################\n",
      "the variable name: MCQ240CC\n",
      "the variable description is: How old (were you/was SP) when uterine cancer was first diagnosed?\n",
      "there are 6 examples of this variable\n",
      "#################################################################\n",
      "the variable name: MCQ240C\n",
      "the variable description is: How old (were you/was SP) when bone cancer was first diagnosed?\n",
      "there are 6 examples of this variable\n",
      "#################################################################\n",
      "the variable name: MCQ240BB\n",
      "the variable description is: How old (were you/was SP) when thyroid cancer was first diagnosed?\n",
      "there are 6 examples of this variable\n",
      "#################################################################\n",
      "the variable name: MCQ240B\n",
      "the variable description is: How old {were you/was SP} when blood cancer was first diagnosed?\n",
      "there are 6 examples of this variable\n",
      "#################################################################\n",
      "the variable name: MCQ240AA\n",
      "the variable description is: How old (were you/was SP) when testicular cancer was first diagnosed?\n",
      "there are 6 examples of this variable\n",
      "#################################################################\n",
      "the variable name: MCQ240J\n",
      "the variable description is: How old (were you/was SP) when kidney cancer was first diagnosed?\n",
      "there are 6 examples of this variable\n",
      "#################################################################\n",
      "the variable name: MCQ240I\n",
      "the variable description is: How old (were you/was SP) when gallbladder cancer was first diagnosed?\n",
      "there are 6 examples of this variable\n",
      "#################################################################\n",
      "the variable name: MCQ240Q\n",
      "the variable description is: How old (were you/was SP) when mouth, tongue, or lip cancer was first diagnosed?\n",
      "there are 6 examples of this variable\n",
      "#################################################################\n",
      "the variable name: MCQ240K\n",
      "the variable description is: How old (were you/was SP) when larynx or windpipe cancer was first diagnosed?\n",
      "there are 6 examples of this variable\n",
      "#################################################################\n",
      "the variable name: MCQ240L\n",
      "the variable description is: How old (were you/was SP) when leukemia was first diagnosed?\n",
      "there are 6 examples of this variable\n",
      "#################################################################\n",
      "the variable name: MCQ240N\n",
      "the variable description is: How old (were you/was SP) when lung cancer was first diagnosed?\n",
      "there are 6 examples of this variable\n",
      "#################################################################\n",
      "the variable name: MCQ240O\n",
      "the variable description is: How old (were you/was SP) when lymphoma or Hodgkin's Disease was first diagnosed?\n",
      "there are 6 examples of this variable\n",
      "#################################################################\n",
      "the variable name: MCQ240P\n",
      "the variable description is: How old (were you/was SP) when melanoma was first diagnosed?\n",
      "there are 6 examples of this variable\n",
      "#################################################################\n",
      "the variable name: MCQ230C\n",
      "the variable description is: What kind of cancer was it?\n",
      "there are 6 examples of this variable\n",
      "#################################################################\n",
      "the variable name: MCQ240R\n",
      "the variable description is: How old (were you/was SP) when cancer of the nervous system was first diagnosed?\n",
      "there are 6 examples of this variable\n",
      "#################################################################\n",
      "the variable name: MCQ240S\n",
      "the variable description is: How old (were you/was SP) when ovarian cancer was first diagnosed?\n",
      "there are 6 examples of this variable\n",
      "#################################################################\n",
      "the variable name: MCQ240T\n",
      "the variable description is: How old (were you/was SP) when pancreatic cancer was first diagnosed?\n",
      "there are 6 examples of this variable\n",
      "#################################################################\n",
      "the variable name: MCQ240U\n",
      "the variable description is: How old (were you/was SP) when prostate cancer was first diagnosed?\n",
      "there are 6 examples of this variable\n",
      "#################################################################\n",
      "the variable name: MCQ240V\n",
      "the variable description is: How old (were you/was SP) when rectal cancer was first diagnosed?\n",
      "there are 6 examples of this variable\n",
      "#################################################################\n",
      "the variable name: MCQ240W\n",
      "the variable description is: How old (were you/was SP) when non-melanoma skin cancer was first diagnosed?\n",
      "there are 6 examples of this variable\n",
      "#################################################################\n",
      "the variable name: MCQ240X\n",
      "the variable description is: How old (were you/was SP) when the unknown kind of skin cancer was first diagnosed?\n",
      "there are 6 examples of this variable\n",
      "#################################################################\n",
      "the variable name: MCQ240Y\n",
      "the variable description is: How old (were you/was SP) when soft tissue (muscle or fat) cancer was first diagnosed?\n",
      "there are 6 examples of this variable\n",
      "#################################################################\n",
      "the variable name: MCQ240Z\n",
      "the variable description is: How old (were you/was SP) when stomach cancer was first diagnosed?\n",
      "there are 6 examples of this variable\n",
      "#################################################################\n",
      "the variable name: MCQ230D\n",
      "the variable description is: What kind of cancer was it?\n",
      "there are 6 examples of this variable\n",
      "#################################################################\n",
      "the variable name: MCQ240M\n",
      "the variable description is: How old (were you/was SP) when liver cancer was first diagnosed?\n",
      "there are 6 examples of this variable\n",
      "#################################################################\n",
      "the variable name: MCQ230B\n",
      "the variable description is: What kind of cancer was it?\n",
      "there are 6 examples of this variable\n",
      "#################################################################\n",
      "the variable name: MCQ180A\n",
      "the variable description is: How old {were you/was SP} when {you were/s/he was} first told {you/s/he} . . . had arthritis?\n",
      "there are 6 examples of this variable\n",
      "#################################################################\n",
      "the variable name: MCQ230A\n",
      "the variable description is: What kind of cancer was it?\n",
      "there are 6 examples of this variable\n",
      "#################################################################\n",
      "the variable name: MCQ160A\n",
      "the variable description is: Has a doctor or other health professional ever told {you/SP} that {you/s/he} . . .had arthritis?\n",
      "there are 6 examples of this variable\n",
      "#################################################################\n",
      "the variable name: MCQ160B\n",
      "the variable description is: Has a doctor or other health professional ever told {you/SP} that {you/s/he} . . .had congestive heart failure?\n",
      "there are 6 examples of this variable\n",
      "#################################################################\n",
      "the variable name: MCQ160C\n",
      "the variable description is: Has a doctor or other health professional ever told {you/SP} that {you/s/he} . . .had coronary heart disease?\n",
      "there are 6 examples of this variable\n",
      "#################################################################\n",
      "the variable name: MCQ160D\n",
      "the variable description is: Has a doctor or other health professional ever told {you/SP} that {you/s/he} . . .had angina, also called angina pectoris?\n",
      "there are 6 examples of this variable\n",
      "#################################################################\n",
      "the variable name: MCQ160E\n",
      "the variable description is: Has a doctor or other health professional ever told {you/SP} that {you/s/he} . . .had a heart attack (also called myocardial infarction)?\n",
      "there are 6 examples of this variable\n",
      "#################################################################\n",
      "the variable name: MCQ160F\n",
      "the variable description is: Has a doctor or other health professional ever told {you/SP} that {you/s/he} . . .had a stroke?\n",
      "there are 6 examples of this variable\n",
      "#################################################################\n",
      "the variable name: MCQ160G\n",
      "the variable description is: Has a doctor or other health professional ever told {you/SP} that {you/s/he} . . .had emphysema?\n",
      "there are 6 examples of this variable\n",
      "#################################################################\n",
      "the variable name: MCQ160L\n",
      "the variable description is: Has a doctor or other health professional ever told {you/SP} that {you/s/he} . . .had any kind of liver condition?\n",
      "there are 6 examples of this variable\n",
      "#################################################################\n",
      "the variable name: MCQ170K\n",
      "the variable description is: {Do you/Does SP} still . . . have chronic bronchitis?\n",
      "there are 6 examples of this variable\n",
      "#################################################################\n",
      "the variable name: MCQ170L\n",
      "the variable description is: {Do you/Does SP} still . . . have any kind of liver condition?\n",
      "there are 6 examples of this variable\n",
      "#################################################################\n",
      "the variable name: MCQ160K\n",
      "the variable description is: Has a doctor or other health professional ever told {you/SP} that {you/s/he} . . .had chronic bronchitis?\n",
      "there are 6 examples of this variable\n",
      "#################################################################\n",
      "the variable name: MCQ180B\n",
      "the variable description is: How old {were you/was SP} when {you were/s/he was} first told {you/s/he} . . .had congestive heart failure?\n",
      "there are 6 examples of this variable\n",
      "#################################################################\n",
      "the variable name: MCQ180E\n",
      "the variable description is: How old {were you/was SP} when {you were/s/he was} first told {you/s/he} . . .had a heart attack (also called myocardial infarction)?\n",
      "there are 6 examples of this variable\n",
      "#################################################################\n",
      "the variable name: MCQ180L\n",
      "the variable description is: How old {were you/was SP} when {you were/s/he was} first told {you/s/he} . . .had any kind of liver condition?\n",
      "there are 6 examples of this variable\n",
      "#################################################################\n",
      "the variable name: MCQ180K\n",
      "the variable description is: How old {were you/was SP} when {you were/s/he was} first told {you/s/he} . . .had chronic bronchitis?\n",
      "there are 6 examples of this variable\n",
      "#################################################################\n",
      "the variable name: MCQ180G\n",
      "the variable description is: How old {were you/was SP} when {you were/s/he was} first told {you/s/he} . . .had emphysema?\n",
      "there are 6 examples of this variable\n",
      "#################################################################\n",
      "the variable name: MCQ180F\n",
      "the variable description is: How old {were you/was SP} when {you were/s/he was} first told {you/s/he} . . .had a stroke?\n",
      "there are 6 examples of this variable\n",
      "#################################################################\n",
      "the variable name: MCQ180D\n",
      "the variable description is: How old {were you/was SP} when {you were/s/he was} first told {you/s/he} . . .had angina, also called angina pectoris?\n",
      "there are 6 examples of this variable\n",
      "#################################################################\n",
      "the variable name: MCQ180C\n",
      "the variable description is: How old {were you/was SP} when {you were/s/he was} first told {you/s/he} . . .had coronary heart disease?\n",
      "there are 6 examples of this variable\n",
      "#################################################################\n",
      "This is the variable list: ['MCD093', 'MCQ050', 'MCQ220', 'MCQ092', 'MCQ053', 'SEQN', 'MCQ080', 'MCQ040', 'MCQ010', 'MCQ035', 'MCQ025', 'MCQ149', 'MCQ140', 'MCQ240D', 'MCQ240H', 'MCQ240G', 'MCQ240F', 'MCQ240E', 'MCQ240DD', 'MCQ240A', 'MCQ240CC', 'MCQ240C', 'MCQ240BB', 'MCQ240B', 'MCQ240AA', 'MCQ240J', 'MCQ240I', 'MCQ240Q', 'MCQ240K', 'MCQ240L', 'MCQ240N', 'MCQ240O', 'MCQ240P', 'MCQ230C', 'MCQ240R', 'MCQ240S', 'MCQ240T', 'MCQ240U', 'MCQ240V', 'MCQ240W', 'MCQ240X', 'MCQ240Y', 'MCQ240Z', 'MCQ230D', 'MCQ240M', 'MCQ230B', 'MCQ180A', 'MCQ230A', 'MCQ160A', 'MCQ160B', 'MCQ160C', 'MCQ160D', 'MCQ160E', 'MCQ160F', 'MCQ160G', 'MCQ160L', 'MCQ170K', 'MCQ170L', 'MCQ160K', 'MCQ180B', 'MCQ180E', 'MCQ180L', 'MCQ180K', 'MCQ180G', 'MCQ180F', 'MCQ180D', 'MCQ180C'] \n",
      " \n",
      "\n"
     ]
    },
    {
     "name": "stdout",
     "output_type": "stream",
     "text": [
      "\n",
      "\n",
      "The data frame is for Physical Activity\n",
      "the variable name: SEQN\n",
      "the variable description is: Respondent sequence number.\n",
      "there are 10 examples of this variable\n",
      "#################################################################\n",
      "the variable name: PAAQUEX\n",
      "the variable description is: Questionnaire source flag for weighting\n",
      "there are 8 examples of this variable\n",
      "#################################################################\n",
      "the variable name: PAQ610\n",
      "the variable description is: In a typical week, on how many days {do you/does SP} do vigorous-intensity activities as part of your work?\n",
      "there are 6 examples of this variable\n",
      "#################################################################\n",
      "the variable name: PAQ670\n",
      "the variable description is: In a typical week, on how many days {do you/does SP} do moderate-intensity sports, fitness or recreational activities?\n",
      "there are 6 examples of this variable\n",
      "#################################################################\n",
      "the variable name: PAQ665\n",
      "the variable description is: {Do you/Does SP} do any moderate-intensity sports, fitness, or recreational activities that cause a small increase in breathing or heart rate such as brisk walking, bicycling, swimming, or golf for at least 10 minutes continuously?\n",
      "there are 6 examples of this variable\n",
      "#################################################################\n",
      "the variable name: PAQ655\n",
      "the variable description is: In a typical week, on how many days {do you/does SP} do vigorous-intensity sports, fitness or recreational activities?\n",
      "there are 6 examples of this variable\n",
      "#################################################################\n",
      "the variable name: PAQ650\n",
      "the variable description is: The next questions exclude the work and transportation activities that you have already mentioned. Now I would like to ask you about sports, fitness and recreational activities. {Do you/Does SP} do any vigorous-intensity sports, fitness, or recreational activities that cause large increases in breathing or heart rate like running or basketball for at least 10 minutes continuously?\n",
      "there are 6 examples of this variable\n",
      "#################################################################\n",
      "the variable name: PAQ640\n",
      "the variable description is: In a typical week, on how many days {do you/does SP} walk or bicycle for at least 10 minutes continuously to get to and from places?\n",
      "there are 6 examples of this variable\n",
      "#################################################################\n",
      "the variable name: PAQ625\n",
      "the variable description is: In a typical week, on how many days {do you/does SP} do moderate-intensity activities as part of {your/his/her} work?\n",
      "there are 6 examples of this variable\n",
      "#################################################################\n",
      "the variable name: PAQ620\n",
      "the variable description is: Does {your/SP's} work involve moderate-intensity activity that causes small increases in breathing or heart rate such as brisk walking or carrying light loads for at least 10 minutes continuously?\n",
      "there are 6 examples of this variable\n",
      "#################################################################\n",
      "the variable name: PAQ635\n",
      "the variable description is: The next questions exclude the physical activity of work that you have already mentioned. Now I would like to ask you about the usual way {you travel/SP travels} to and from places. For example to work, for shopping, to school. {Do you/Does SP} walk or use a bicycle for at least 10 minutes continuously to get to and from places?\n",
      "there are 6 examples of this variable\n",
      "#################################################################\n",
      "the variable name: PAQ605\n",
      "the variable description is: Next I am going to ask you about the time {you spend/SP spends} doing different types of physical activity in a typical week. Please answer these questions even if {you do not consider yourself/SP does not consider himself/herself} to be a physically active person. Think first about the time {you spend/SP spends} doing work. Think of work as the things that {you have/SP has} to do such as paid or unpaid work, studying or training, household chores, and yard work. In answering the following questions, 'vigorous-intensity activities' are activities that require hard physical effort and cause large increases in breathing or heart rate, and 'moderate-intensity activities' are activities that require moderate physical effort and cause small increases in breathing or heart rate. Does {your/SP's} work involve vigorous-intensity activity that causes large increases in breathing or heart rate like carrying or lifting heavy loads, digging or construction work for at least 10 minutes continuously?\n",
      "there are 6 examples of this variable\n",
      "#################################################################\n",
      "the variable name: PAD680\n",
      "the variable description is: The following question is about sitting or reclining at work, at home, or at school. Include time spent sitting at a desk, sitting with friends, traveling in a car, bus, or train, reading, playing cards, watching television, or using a computer. Do not include time spent sleeping. How much time {do you/does SP} usually spend sitting or reclining on a typical day?\n",
      "there are 6 examples of this variable\n",
      "#################################################################\n",
      "the variable name: PAD675\n",
      "the variable description is: How much time {do you/does SP} spend doing moderate-intensity sports, fitness or recreational activities on a typical day?\n",
      "there are 6 examples of this variable\n",
      "#################################################################\n",
      "the variable name: PAD660\n",
      "the variable description is: How much time {do you/does SP} spend doing vigorous-intensity sports, fitness or recreational activities on a typical day?\n",
      "there are 6 examples of this variable\n",
      "#################################################################\n",
      "the variable name: PAD645\n",
      "the variable description is: How much time {do you/does SP} spend walking or bicycling for travel on a typical day?\n",
      "there are 6 examples of this variable\n",
      "#################################################################\n",
      "the variable name: PAD630\n",
      "the variable description is: How much time {do you/does SP} spend doing moderate-intensity activities at work on a typical day?\n",
      "there are 6 examples of this variable\n",
      "#################################################################\n",
      "the variable name: PAD615\n",
      "the variable description is: How much time {do you/does SP} spend doing vigorous-intensity activities at work on a typical day?\n",
      "there are 6 examples of this variable\n",
      "#################################################################\n",
      "This is the variable list: ['SEQN', 'PAAQUEX', 'PAQ610', 'PAQ670', 'PAQ665', 'PAQ655', 'PAQ650', 'PAQ640', 'PAQ625', 'PAQ620', 'PAQ635', 'PAQ605', 'PAD680', 'PAD675', 'PAD660', 'PAD645', 'PAD630', 'PAD615'] \n",
      " \n",
      "\n",
      "\n",
      "\n",
      "The data frame is for Health Insurance\n",
      "the variable name: SEQN\n",
      "the variable description is: Respondent sequence number.\n",
      "there are 10 examples of this variable\n",
      "#################################################################\n",
      "the variable name: HIQ210\n",
      "the variable description is: In the past 12 months, was there any time when {you/SP} did not have any health insurance coverage?\n",
      "there are 10 examples of this variable\n",
      "#################################################################\n",
      "the variable name: HIQ011\n",
      "the variable description is: The (first/next) questions are about health insurance. {Are you/Is SP} covered by health insurance or some other kind of health care plan? [Include health insurance obtained through employment or purchased directly as well as government programs like Medicare and Medicaid that provide medical care or help pay medical bills.]\n",
      "there are 7 examples of this variable\n",
      "#################################################################\n",
      "the variable name: HIQ031H\n",
      "the variable description is: {Are you/Is SP} covered by state-sponsored health plan?\n",
      "there are 7 examples of this variable\n",
      "#################################################################\n",
      "the variable name: HIQ270\n",
      "the variable description is: {Does this plan/Do any of these plans} cover any part of the cost of prescriptions?\n",
      "there are 7 examples of this variable\n",
      "#################################################################\n",
      "the variable name: HIQ260\n",
      "the variable description is: {Do you/Does SP} have Medicare?\n",
      "there are 7 examples of this variable\n",
      "#################################################################\n",
      "the variable name: HIQ031A\n",
      "the variable description is: {Are you/Is SP} covered by private insurance?\n",
      "there are 7 examples of this variable\n",
      "#################################################################\n",
      "the variable name: HIQ031J\n",
      "the variable description is: {Are you/Is SP} covered by any single service plan?\n",
      "there are 7 examples of this variable\n",
      "#################################################################\n",
      "the variable name: HIQ031I\n",
      "the variable description is: {Are you/Is SP} covered by other government insurance?\n",
      "there are 7 examples of this variable\n",
      "#################################################################\n",
      "the variable name: HIQ105\n",
      "the variable description is: Insurance card available or not.\n",
      "there are 7 examples of this variable\n",
      "#################################################################\n",
      "the variable name: HIQ031F\n",
      "the variable description is: {Are you/Is SP} covered by military health plan (Tricare/VA/Champ-VA)?\n",
      "there are 7 examples of this variable\n",
      "#################################################################\n",
      "the variable name: HIQ031E\n",
      "the variable description is: {Are you/Is SP} covered by SCHIP (State Children's Health Insurance Program)?\n",
      "there are 7 examples of this variable\n",
      "#################################################################\n",
      "the variable name: HIQ031D\n",
      "the variable description is: {Are you/Is SP} covered by Medicaid?\n",
      "there are 7 examples of this variable\n",
      "#################################################################\n",
      "the variable name: HIQ031C\n",
      "the variable description is: {Are you/Is SP} covered by Medi-Gap?\n",
      "there are 7 examples of this variable\n",
      "#################################################################\n",
      "the variable name: HIQ031B\n",
      "the variable description is: {Are you/Is SP} covered by Medicare?\n",
      "there are 7 examples of this variable\n",
      "#################################################################\n",
      "the variable name: HIQ031AA\n",
      "the variable description is: No coverage of any type.\n",
      "there are 7 examples of this variable\n",
      "#################################################################\n",
      "This is the variable list: ['SEQN', 'HIQ210', 'HIQ011', 'HIQ031H', 'HIQ270', 'HIQ260', 'HIQ031A', 'HIQ031J', 'HIQ031I', 'HIQ105', 'HIQ031F', 'HIQ031E', 'HIQ031D', 'HIQ031C', 'HIQ031B', 'HIQ031AA'] \n",
      " \n",
      "\n"
     ]
    },
    {
     "name": "stdout",
     "output_type": "stream",
     "text": [
      "\n",
      "\n",
      "The data frame is for Hospital Utilization & Access to Care\n",
      "the variable name: HUQ020\n",
      "the variable description is: Compared with 12 months ago, would you say {your/SP's} health is now . . .\n",
      "there are 10 examples of this variable\n",
      "#################################################################\n",
      "the variable name: HUQ030\n",
      "the variable description is: Is there a place that {you/SP} usually {go/goes} when {you are/he/she is} sick or {you/s/he} need{s} advice about {your/his/her} health?\n",
      "there are 10 examples of this variable\n",
      "#################################################################\n",
      "the variable name: HUQ090\n",
      "the variable description is: During the past 12 months, that is since {DISPLAY CURRENT MONTH} of {DISPLAY LAST YEAR}, {have you/has SP} seen or talked to a mental health professional such as a psychologist, psychiatrist, psychiatric nurse or clinical social worker about {your/his/her} health?\n",
      "there are 10 examples of this variable\n",
      "#################################################################\n",
      "the variable name: SEQN\n",
      "the variable description is: Respondent sequence number.\n",
      "there are 10 examples of this variable\n",
      "#################################################################\n",
      "the variable name: HUQ010\n",
      "the variable description is: {First/Next} I have some general questions about {your/SP's} health. Would you say {your/SP's} health in general is . . .\n",
      "there are 10 examples of this variable\n",
      "#################################################################\n",
      "the variable name: HUD080\n",
      "the variable description is: How many different times did {you/SP} stay in any hospital overnight or longer {during the past 12 months}? (Do not count total number of nights, just total number of hospital admissions for stays which lasted 1 or more nights.)\n",
      "there are 9 examples of this variable\n",
      "#################################################################\n",
      "the variable name: HUQ071\n",
      "the variable description is: {During the past 12 months, were you/{Was/was} SP} a patient in a hospital overnight? Do not include an overnight stay in the emergency room.\n",
      "there are 8 examples of this variable\n",
      "#################################################################\n",
      "the variable name: HUQ040\n",
      "the variable description is: What kind of place {do you/does SP} go to most often: is it a clinic, doctor's office, emergency room, or some other place?\n",
      "there are 7 examples of this variable\n",
      "#################################################################\n",
      "the variable name: HUQ050\n",
      "the variable description is: {During the past 12 months, how/How} many times {have you/has SP} seen a doctor or other health care professional about {your/his/her} health at a doctor's office, a clinic, hospital emergency room, at home or some other place? Do not include times {you were/s/he was} hospitalized overnight.\n",
      "there are 7 examples of this variable\n",
      "#################################################################\n",
      "the variable name: HUQ060\n",
      "the variable description is: About how long has it been since {you/SP} last saw or talked to a doctor or other health care professional about {your/his/her} health? Include doctors seen while {you were} {he/she was} a patient in a hospital. Has it been . . .\n",
      "there are 7 examples of this variable\n",
      "#################################################################\n",
      "This is the variable list: ['HUQ020', 'HUQ030', 'HUQ090', 'SEQN', 'HUQ010', 'HUD080', 'HUQ071', 'HUQ040', 'HUQ050', 'HUQ060'] \n",
      " \n",
      "\n",
      "\n",
      "\n",
      "The data frame is for Housing Characteristics\n",
      "the variable name: HOD050\n",
      "the variable description is: How many rooms are in this home? Count the kitchen but not the bathroom.\n",
      "there are 10 examples of this variable\n",
      "#################################################################\n",
      "the variable name: HOQ065\n",
      "the variable description is: Is this {mobile home/house/apartment} owned, being bought, rented, or occupied by some other arrangement by {you/you or someone else in your family}?\n",
      "there are 10 examples of this variable\n",
      "#################################################################\n",
      "the variable name: SEQN\n",
      "the variable description is: Respondent sequence number.\n",
      "there are 10 examples of this variable\n",
      "#################################################################\n",
      "the variable name: HOQ070\n",
      "the variable description is: What is the source of tap water in this home? Is it a private or public water company, a private or public well, or something else?\n",
      "there are 6 examples of this variable\n",
      "#################################################################\n",
      "the variable name: HOQ080\n",
      "the variable description is: Are any of the water treatment devices listed on this card used in your home?\n",
      "there are 6 examples of this variable\n",
      "#################################################################\n",
      "the variable name: HOD060\n",
      "the variable description is: How many years {have you/has your family} lived at this address?\n",
      "there are 6 examples of this variable\n",
      "#################################################################\n",
      "This is the variable list: ['HOD050', 'HOQ065', 'SEQN', 'HOQ070', 'HOQ080', 'HOD060'] \n",
      " \n",
      "\n",
      "\n",
      "\n",
      "The data frame is for Occupation\n",
      "the variable name: OCQ380\n",
      "the variable description is: (SP Interview Version) What is the main reason {you/SP} did not work last week? (Family Interview Version) What is the main reason {you/NON-SP HEAD/NON-SP SPOUSE} did not work last week?\n",
      "there are 10 examples of this variable\n",
      "#################################################################\n",
      "the variable name: OCD270\n",
      "the variable description is: About how long {have you/has SP} worked for {EMPLOYER} as a(n) {OCCUPATION}?\n",
      "there are 10 examples of this variable\n",
      "#################################################################\n",
      "the variable name: SEQN\n",
      "the variable description is: Respondent sequence number\n",
      "there are 10 examples of this variable\n",
      "#################################################################\n",
      "the variable name: OCD395\n",
      "the variable description is: About how long did {you/SP} work at that job or business?\n",
      "there are 10 examples of this variable\n",
      "#################################################################\n",
      "the variable name: OCQ260\n",
      "the variable description is: Looking at the card, which of these best describes this job or work situation?\n",
      "there are 10 examples of this variable\n",
      "#################################################################\n",
      "the variable name: OCQ210\n",
      "the variable description is: {Do you/Does SP} usually work 35 hours or more per week in total at all jobs or businesses?\n",
      "there are 10 examples of this variable\n",
      "#################################################################\n",
      "the variable name: OCQ180\n",
      "the variable description is: How many hours did {you/SP} work last week at all jobs or businesses?\n",
      "there are 9 examples of this variable\n",
      "#################################################################\n",
      "the variable name: OCD150\n",
      "the variable description is: (SP Interview Version) In this part of the survey I will ask you questions about {your/SP's} work experience. Which of the following {were you/was SP} doing last week . . . (Family Interview Version) The next questions are about {your/NON-SP HEAD'S/NON- SP SPOUSE'S} current job or business. Which of the following {were you/was} {NON-SP HEAD/NON-SP SPOUSE} doing last week . . .\n",
      "there are 9 examples of this variable\n",
      "#################################################################\n",
      "the variable name: OCD390G\n",
      "the variable description is: Thinking of all the paid jobs or businesses {you/SP} ever had, what kind of work {were you/was s/he} doing the longest? (For example, electrical engineer, stock clerk, typist, farmer.)\n",
      "there are 9 examples of this variable\n",
      "#################################################################\n",
      "the variable name: OCQ290Q\n",
      "the variable description is: The next questions are about conditions {you/SP} may experience and equipment {you/he/she} may use at {EMPLOYER} as a(n) {OCCUPATION}. At this job or business, how many hours per day can {you/SP} smell the smoke from other people's cigarettes, cigars, and/or pipes?\n",
      "there are 6 examples of this variable\n",
      "#################################################################\n",
      "the variable name: OCQ290G\n",
      "the variable description is: The next questions are about conditions {you/SP} may experience and equipment {you/he/she} may use at {EMPLOYER} as a(n) {OCCUPATION}. At this job or business, how many hours per day can {you/SP} smell the smoke from other people's cigarettes, cigars, and/or pipes?\n",
      "there are 6 examples of this variable\n",
      "#################################################################\n",
      "This is the variable list: ['OCQ380', 'OCD270', 'SEQN', 'OCD395', 'OCQ260', 'OCQ210', 'OCQ180', 'OCD150', 'OCD390G', 'OCQ290Q', 'OCQ290G'] \n",
      " \n",
      "\n"
     ]
    },
    {
     "name": "stdout",
     "output_type": "stream",
     "text": [
      "\n",
      "\n",
      "The data frame is for Income\n",
      "the variable name: IND235\n",
      "the variable description is: Monthly family income (reported as a range value in dollars).\n",
      "there are 6 examples of this variable\n",
      "#################################################################\n",
      "the variable name: INQ060\n",
      "the variable description is: Did {you/you or any family members living here} receive any disability pension [other than Social Security or Railroad Retirement] in {LAST CALENDAR YEAR}?\n",
      "there are 6 examples of this variable\n",
      "#################################################################\n",
      "the variable name: SEQN\n",
      "the variable description is: Respondent sequence number.\n",
      "there are 6 examples of this variable\n",
      "#################################################################\n",
      "the variable name: INQ150\n",
      "the variable description is: Did {you/you or any family members living here} receive income in {LAST CALENDAR YEAR} from child support, alimony, contributions from family or others, VA payments, worker's compensation, or unemployment compensation?\n",
      "there are 6 examples of this variable\n",
      "#################################################################\n",
      "the variable name: INQ140\n",
      "the variable description is: Did {you/you or any family members living here} receive interest from savings or other bank accounts or income from dividends received from stocks or mutual funds or net rental income from property, royalties, estates, or trusts in {LAST CALENDAR YEAR}?\n",
      "there are 6 examples of this variable\n",
      "#################################################################\n",
      "the variable name: INQ132\n",
      "the variable description is: Did {you/you or any family members living here} receive any cash assistance from a state or county welfare program such as {DISPLAY SPECIFIC STATE PROGRAMS} in {LAST CALENDAR YEAR}?\n",
      "there are 6 examples of this variable\n",
      "#################################################################\n",
      "the variable name: INQ080\n",
      "the variable description is: Did {you/you or any family members living here} receive retirement or survivor pension [other than Social Security or Railroad Retirement or disability pension] in {LAST CALENDAR YEAR}?\n",
      "there are 6 examples of this variable\n",
      "#################################################################\n",
      "the variable name: INQ090\n",
      "the variable description is: Did {you/you or any family members living here} receive Supplemental Security Income [SSI] in {LAST CALENDAR YEAR}?\n",
      "there are 6 examples of this variable\n",
      "#################################################################\n",
      "the variable name: INQ030\n",
      "the variable description is: When answering the next questions about different kinds of income members of your family might have received in {LAST CALENDAR YEAR}, please consider that we also want to know about family members less than 16 years old. Did {you/you or any family members living here, that is: you or NAME(S) OF OTHER NHANES FAMILY MEMBERS} receive income in {LAST CALENDAR YEAR} from Social Security or Railroad Retirement?\n",
      "there are 6 examples of this variable\n",
      "#################################################################\n",
      "the variable name: INQ020\n",
      "the variable description is: The next questions are about {your/your combined family} income. When answering these questions, please remember that by {\"income/combined family income\"}, I mean {your income/your income plus the income of {NAMES OF OTHER NHANES FAMILY MEMBERS} for {LAST CALENDAR YEAR}. Did {you/you and OTHER NHANES FAMILY MEMBERS 16+} receive income in {LAST CALENDAR YEAR} from wages and salaries? [Did {you/you or OTHER FAMILY MEMBERS 16+} get paid for work in {LAST CALENDAR YEAR}.]\n",
      "there are 6 examples of this variable\n",
      "#################################################################\n",
      "the variable name: INQ012\n",
      "the variable description is: Did {you/you or any family members 16 and older} receive income in {LAST CALENDAR YEAR} from self-employment including business and farm income? [Self-employment means you worked for yourself.]\n",
      "there are 6 examples of this variable\n",
      "#################################################################\n",
      "the variable name: INDFMMPI\n",
      "the variable description is: Family monthly poverty level index, a ratio of monthly family income to the HHS poverty guidelines specific to family size.\n",
      "there are 6 examples of this variable\n",
      "#################################################################\n",
      "the variable name: INDFMMPC\n",
      "the variable description is: Family monthly poverty level index categories.\n",
      "there are 6 examples of this variable\n",
      "#################################################################\n",
      "This is the variable list: ['IND235', 'INQ060', 'SEQN', 'INQ150', 'INQ140', 'INQ132', 'INQ080', 'INQ090', 'INQ030', 'INQ020', 'INQ012', 'INDFMMPI', 'INDFMMPC'] \n",
      " \n",
      "\n"
     ]
    }
   ],
   "source": [
    "for i, the_name in enumerate(questionnaire_data_file_list):\n",
    "  print(\"\\n\")\n",
    "  df = return_temp_df(the_name)\n",
    "  q_variable_list = check_variable(df)\n",
    "  print(f\"This is the variable list: {q_variable_list} \\n \\n\")\n",
    "  x,y,z = get_variable_documentation(df[\"Data File Name\"][0], cycle=df[\"Years\"][0], variable_list = q_variable_list)\n",
    "  variable_documentation_dict[f\"{the_name}\"] = [q_variable_list, y,z,x]\n"
   ]
  },
  {
   "cell_type": "code",
   "execution_count": 16,
   "metadata": {
    "id": "-ZkgwKSfFYJD"
   },
   "outputs": [],
   "source": [
    "x,y,z = get_variable_documentation(df[\"Data File Name\"][0], cycle=df[\"Years\"][0], variable_list = q_variable_list)\n",
    "variable_documentation_dict[f\"{the_name}\"] = [q_variable_list, y,z,x]"
   ]
  },
  {
   "cell_type": "markdown",
   "metadata": {
    "id": "DUn4KjcDblhn"
   },
   "source": [
    "### **Data Files**\n",
    "*****************************"
   ]
  },
  {
   "cell_type": "markdown",
   "metadata": {
    "id": "gHdonpYlZDGN"
   },
   "source": [
    "We are going to create a diictionary of dataframe. These are going to include demography data and the questionnaire data created from their respective data files. Data files from all 10 survey cycles will be merged and then appended into this dictionary."
   ]
  },
  {
   "cell_type": "code",
   "execution_count": 17,
   "metadata": {
    "id": "t8L48JpQZCmN"
   },
   "outputs": [],
   "source": [
    "Dict_Data_files = dict()"
   ]
  },
  {
   "cell_type": "code",
   "execution_count": 18,
   "metadata": {
    "id": "GKSepSqjbrS4"
   },
   "outputs": [],
   "source": [
    "#we will create dictionary fo the data file name and the survey cycle corresponding to that name\n",
    "def create_dict_cycle_and_file_name(variable_df):\n",
    "  \"\"\"\n",
    "  This fuction input the variable dataframe \n",
    "  It returns the dictionary of the variable names as keys and cycles as items\n",
    "  \"\"\"\n",
    "  data_File_Name_Cycle_dict = dict(zip(variable_df['Data File Name'], variable_df['Years']))\n",
    "\n",
    "  return data_File_Name_Cycle_dict\n",
    "\n",
    "\n",
    "\n",
    "def get_data_files(Data_file_Name, Doc_File_Name_dict, COLUMN_NAMES):\n",
    "  \"\"\"\n",
    "  This fuction merges the data frames \n",
    "  \"\"\"\n",
    "  key = list(Doc_File_Name_dict.keys())[0]\n",
    "  print(f\"Starting to merge {Data_file_Name}\")\n",
    "  url = f\"https://wwwn.cdc.gov/Nchs/Nhanes/{Doc_File_Name_dict[key]}/{key}.XPT\"\n",
    "  df = pd.read_sas(url, format='xport', encoding='utf-8')\n",
    "  #print(f\"this is the columns of df {list(df.columns)}\")\n",
    "  merged_df = pd.DataFrame(columns = list(df.columns)) \n",
    "  #print(f\"this is the columns of merged_df {list(merged_df.columns)}\")\n",
    "  \n",
    "  for key in Doc_File_Name_dict:\n",
    "    print(f\"We are in year: {Doc_File_Name_dict[key]} for doc {key}\")\n",
    "    \n",
    "    url = f\"https://wwwn.cdc.gov/Nchs/Nhanes/{Doc_File_Name_dict[key]}/{key}.XPT\"\n",
    "    df_temp = pd.read_sas(url, format='xport', encoding='utf-8')\n",
    "    #print(f\"this is the columns of df_temp {list(df_temp.columns)}\")\n",
    "\n",
    "    #now we merge\n",
    "    merged_df = pd.merge(merged_df, df_temp, how=\"outer\")\n",
    "\n",
    "  merged_df = merged_df.astype({\"SEQN\": int})\n",
    "  merged_df = merged_df.astype({\"SEQN\": str})\n",
    "\n",
    "  COLUMN_NAMES = [ele for ele in list(merged_df.columns) if ele in COLUMN_NAMES]\n",
    "\n",
    "  \n",
    "  merged_df = merged_df[COLUMN_NAMES]\n",
    "  print(f\"Done merging {Data_file_Name}!!!!!!!\")\n",
    "\n",
    "  #we add the merged that frame to the dictionary of Data files\n",
    "  Dict_Data_files[Data_file_Name] = merged_df\n",
    "  "
   ]
  },
  {
   "cell_type": "markdown",
   "metadata": {
    "id": "CY2ztco-bvHq"
   },
   "source": [
    "**Demography**"
   ]
  },
  {
   "cell_type": "code",
   "execution_count": null,
   "metadata": {
    "colab": {
     "base_uri": "https://localhost:8080/",
     "height": 535
    },
    "id": "sRfcDJU1bvz6",
    "outputId": "5b88e90d-08cc-434a-9c9b-d44535431516"
   },
   "outputs": [
    {
     "name": "stdout",
     "output_type": "stream",
     "text": [
      "Starting to merge Demography\n",
      "We are in year: 2005-2006 for doc DEMO_D\n",
      "We are in year: 2007-2008 for doc DEMO_E\n",
      "We are in year: 2003-2004 for doc DEMO_C\n",
      "We are in year: 2001-2002 for doc DEMO_B\n",
      "We are in year: 1999-2000 for doc DEMO\n"
     ]
    }
   ],
   "source": [
    "get_data_files(\"Demography\",create_dict_cycle_and_file_name(demographics_var_df), COLUMN_NAMES= variable_documentation_dict['Demography'][0])\n",
    "print(f\"The Type of the data frame: {type(Dict_Data_files['Demography'])}\")\n",
    "demography_data = Dict_Data_files[\"Demography\"]\n",
    "print(f\"The shape of the data frame: {demography_data.shape}\")\n",
    "\n",
    "demography_data.head()\n"
   ]
  },
  {
   "cell_type": "code",
   "execution_count": null,
   "metadata": {
    "id": "trUnCYf7XCEZ"
   },
   "outputs": [],
   "source": []
  },
  {
   "cell_type": "markdown",
   "metadata": {
    "id": "mAGKwCKUbzxT"
   },
   "source": [
    "**Questionnaire**"
   ]
  },
  {
   "cell_type": "code",
   "execution_count": null,
   "metadata": {
    "colab": {
     "base_uri": "https://localhost:8080/"
    },
    "id": "lXszU17DbzXA",
    "outputId": "85dfd94e-e536-4a36-9108-3eb6e6651a32",
    "scrolled": true
   },
   "outputs": [],
   "source": [
    "data_category_list = list(variable_documentation_dict.keys())\n",
    "for i in range(1, len(data_category_list)):\n",
    "  data_category_name = data_category_list[i]\n",
    "  column_names = variable_documentation_dict[data_category_name][0]\n",
    "  df = questionnaire_var_df[questionnaire_var_df[\"Data File Description\"] == data_category_name]\n",
    "  get_data_files(data_category_name, create_dict_cycle_and_file_name(df), COLUMN_NAMES= column_names)"
   ]
  },
  {
   "cell_type": "code",
   "execution_count": null,
   "metadata": {
    "id": "YrCr_I-3u1qa"
   },
   "outputs": [],
   "source": []
  },
  {
   "cell_type": "markdown",
   "metadata": {
    "id": "nfjmpBEVb6Fg"
   },
   "source": [
    "### **Data Cleaning and Preparation**"
   ]
  },
  {
   "cell_type": "markdown",
   "metadata": {
    "id": "U0b034eYB0AR"
   },
   "source": [
    "For the data creaning we are going to  start with the Demographic."
   ]
  },
  {
   "cell_type": "code",
   "execution_count": null,
   "metadata": {
    "colab": {
     "base_uri": "https://localhost:8080/"
    },
    "id": "XLnW_D8Nb6so",
    "outputId": "87845fac-8be5-43a2-bf47-2f651fb7671f"
   },
   "outputs": [],
   "source": [
    "#we need to check if the columns that we have in the actual dataframe are the same one as the one we have in the variable documentation \n",
    "#if not, we are going to append the missing documentation \n",
    "\n",
    "#we are going to create a list of all the document type that we have \n",
    "var_dict_keys = list(variable_documentation_dict.keys())\n",
    "\n",
    "#so starting with demographic which is at index 0\n",
    "demo = var_dict_keys[0]\n",
    "demography_df  = Dict_Data_files[demo]\n",
    "#now we retreave the dictionary of column names and they SAS label name\n",
    "demo_var_dict = variable_documentation_dict[demo][1]\n",
    "\n",
    "#now we compare the keys in 'demo_var_dict' and the 'demography_df.columns' and create a list \n",
    "\n",
    "missing_var = [x for x in list(demography_df.columns) if x not in list(demo_var_dict.keys())]\n",
    "print(missing_var)"
   ]
  },
  {
   "cell_type": "code",
   "execution_count": null,
   "metadata": {
    "id": "YWHx1MeLGpsG"
   },
   "outputs": [],
   "source": [
    "#we go to the web and find the description/SAS label of the variable \n",
    "\n",
    "missing_var_dict = {'DMDFMSIZ' : \"Total number of people in the Family\",   \n",
    "                    'INDHHIN2' : \"Annual Household Income\", \n",
    "                    'INDFMIN2' : \"Annual Family Income\"\n",
    "                  }"
   ]
  },
  {
   "cell_type": "code",
   "execution_count": null,
   "metadata": {
    "colab": {
     "base_uri": "https://localhost:8080/"
    },
    "id": "T2Q725hFGoHW",
    "outputId": "8d8c2156-9861-4c2e-963a-a7696454a265"
   },
   "outputs": [],
   "source": [
    "#we update the missing_var_dict to the demo_vardict\n",
    "variable_documentation_dict[demo][1].update(missing_var_dict)\n",
    "#we are going to remove the below entry from the dictionary \n",
    "#'SDMVPSU': 'Masked Variance Pseudo-PSU',\n",
    "variable_documentation_dict[demo][1].pop('SDMVPSU', None)\n",
    "demo_var_dict = variable_documentation_dict[demo][1]\n",
    "\n",
    "demo_var_dict"
   ]
  },
  {
   "cell_type": "code",
   "execution_count": null,
   "metadata": {
    "colab": {
     "base_uri": "https://localhost:8080/",
     "height": 483
    },
    "id": "7_H8oRKmQRHG",
    "outputId": "75ce553e-33e7-475f-cda3-d7e2d6e56aed"
   },
   "outputs": [],
   "source": [
    "Dict_Data_files[demo]"
   ]
  },
  {
   "cell_type": "code",
   "execution_count": null,
   "metadata": {},
   "outputs": [],
   "source": [
    "import pickle"
   ]
  },
  {
   "cell_type": "code",
   "execution_count": null,
   "metadata": {},
   "outputs": [],
   "source": [
    "with open('data.json', 'wb') as fp:\n",
    "    pickle.dump(variable_documentation_dict, fp)"
   ]
  },
  {
   "cell_type": "code",
   "execution_count": null,
   "metadata": {
    "colab": {
     "base_uri": "https://localhost:8080/"
    },
    "id": "etWpGp4_HRbS",
    "outputId": "1ebefb64-524c-4b69-ac74-56d8eee90c50"
   },
   "outputs": [],
   "source": [
    "#now we filter the data frame leaving on the variable in the dict\n",
    "Dict_Data_files[demo] = Dict_Data_files[demo][list(demo_var_dict.keys())]\n",
    "Dict_Data_files[demo]['RIDAGEYR'] = Dict_Data_files[demo]['RIDAGEYR'].round(decimals = 2)\n",
    "Dict_Data_files[demo]['INDFMPIR'] = Dict_Data_files[demo]['INDFMPIR'].round(decimals = 3)\n",
    "demography_df  = Dict_Data_files[demo]\n",
    "\n",
    "demography_df.info()\n"
   ]
  },
  {
   "cell_type": "code",
   "execution_count": null,
   "metadata": {
    "id": "5QmaFrVMQill"
   },
   "outputs": [],
   "source": []
  },
  {
   "cell_type": "code",
   "execution_count": null,
   "metadata": {
    "colab": {
     "base_uri": "https://localhost:8080/"
    },
    "id": "ZhvON_fBOCk3",
    "outputId": "022ba102-d96f-4a8e-f4e3-cc228e988722"
   },
   "outputs": [],
   "source": [
    "demography_df['RIDAGEYR'].round(decimals = 2)"
   ]
  },
  {
   "cell_type": "code",
   "execution_count": null,
   "metadata": {
    "colab": {
     "base_uri": "https://localhost:8080/",
     "height": 297
    },
    "id": "xgdE3ZrZNQMn",
    "outputId": "70e7ef32-f6ae-479d-e0ff-8cc924e65ff3"
   },
   "outputs": [],
   "source": [
    "demography_df.head()"
   ]
  },
  {
   "cell_type": "code",
   "execution_count": null,
   "metadata": {
    "colab": {
     "base_uri": "https://localhost:8080/",
     "height": 204
    },
    "id": "-k86VYKsZ6My",
    "outputId": "decbcc81-3f41-41d8-96db-3b069721bcae"
   },
   "outputs": [],
   "source": [
    "#for Age in Months - Recode\n",
    "#we are going to fill in the null using the value of column RIDAGEYR (Age at Screening Adjudicated - Recode) mutiplied by 12\n",
    "#we then going to drop RIDAGEYR and RIDAGEEX (Exam Age in Months - Recode) as we dont need them\n",
    "demography_df['RIDAGEMN'] = demography_df['RIDAGEMN'].fillna( 12 * demography_df['RIDAGEYR'] )\n",
    "demography_df = demography_df.drop([\"RIDAGEYR\",\"RIDAGEEX\", \"DMDHRGND\", \"DMDHRAGE\", \"DMDSCHOL\",\"DMDEDUC2\",\"DMDEDUC3\",\"DMDMARTL\", \"DMDHSEDU\"], 1)\n",
    "demography_df.head()"
   ]
  },
  {
   "cell_type": "code",
   "execution_count": null,
   "metadata": {
    "colab": {
     "base_uri": "https://localhost:8080/"
    },
    "id": "S1RKt-VKjXXN",
    "outputId": "464e6525-9e64-4976-f596-ef85e6546d50"
   },
   "outputs": [],
   "source": [
    "demography_df.columns"
   ]
  },
  {
   "cell_type": "code",
   "execution_count": null,
   "metadata": {
    "colab": {
     "base_uri": "https://localhost:8080/",
     "height": 37
    },
    "id": "M0ZnY8ut94YY",
    "outputId": "391879bf-3bd8-4894-8157-074c0c394370"
   },
   "outputs": [],
   "source": [
    "demo_var_dict[\"INDFMIN2\"]"
   ]
  },
  {
   "cell_type": "code",
   "execution_count": null,
   "metadata": {
    "colab": {
     "base_uri": "https://localhost:8080/"
    },
    "id": "fkjQAZwCcjtj",
    "outputId": "eb713bc1-5a19-44ec-f59a-f2c1b9a5c9ff"
   },
   "outputs": [],
   "source": [
    "demography_df.info()"
   ]
  },
  {
   "cell_type": "code",
   "execution_count": null,
   "metadata": {
    "colab": {
     "base_uri": "https://localhost:8080/"
    },
    "id": "tqUvIozkc6g6",
    "outputId": "196369d3-37c7-4020-d181-ecaf305db988"
   },
   "outputs": [],
   "source": [
    "#for Veteran/Military Status\n",
    "demography_df[\"DMQMILIT\"].value_counts()"
   ]
  },
  {
   "cell_type": "code",
   "execution_count": null,
   "metadata": {
    "id": "7cTRSJhNdvRr"
   },
   "outputs": [],
   "source": [
    "#here we are filling in the missing values/null with 5 and updating the documentation\n",
    "demography_df['DMQMILIT'] = demography_df['DMQMILIT'].fillna(5)\n",
    "variable_documentation_dict[demo][3][\"DMQMILIT\"][\"Code or Value\"][4] = 5"
   ]
  },
  {
   "cell_type": "code",
   "execution_count": null,
   "metadata": {
    "id": "FyKKPNiOfDqF"
   },
   "outputs": [],
   "source": [
    "#for Citizenship Status\n",
    "#here we are filling in the missing values/null with 5 and updating the documentation\n",
    "demography_df['DMDCITZN'] = demography_df['DMDCITZN'].fillna(5)\n",
    "variable_documentation_dict[demo][3][\"DMDCITZN\"][\"Code or Value\"][4] = 5"
   ]
  },
  {
   "cell_type": "code",
   "execution_count": null,
   "metadata": {
    "id": "QNJE_J3QfDmq"
   },
   "outputs": [],
   "source": [
    "#for Length of time in US\n",
    "#here we are filling in the missing values/null with 15 and updating the documentation\n",
    "demography_df['DMDYRSUS'] = demography_df['DMDYRSUS'].fillna(15)\n",
    "variable_documentation_dict[demo][3][\"DMDYRSUS\"][\"Code or Value\"][12] = 15"
   ]
  },
  {
   "cell_type": "code",
   "execution_count": null,
   "metadata": {
    "id": "khSqypE_2dbD"
   },
   "outputs": [],
   "source": [
    "#for Marital Status\n",
    "#here we are filling in the missing values/null with 9 and updating the documentation\n",
    "demography_df['DMDHRMAR'] = demography_df['DMDHRMAR'].fillna(9)\n",
    "variable_documentation_dict[demo][3][\"DMDHRMAR\"][\"Code or Value\"][8] = 9"
   ]
  },
  {
   "cell_type": "code",
   "execution_count": null,
   "metadata": {
    "id": "s928oNFi2dVD"
   },
   "outputs": [],
   "source": [
    "#Family PIR\n",
    "#here we are filling in the missing values/null with 9 and updating the documentation\n",
    "demography_df['INDFMPIR'] = demography_df['INDFMPIR'].fillna(9)\n",
    "variable_documentation_dict[demo][3][\"INDFMPIR\"][\"Code or Value\"][2] = 9"
   ]
  },
  {
   "cell_type": "code",
   "execution_count": null,
   "metadata": {
    "id": "OnNH972vDaec"
   },
   "outputs": [],
   "source": [
    "#Pregnancy Status at Exam - Recode\n",
    "#here we are filling in the missing values/null with 9 and updating the documentation\n",
    "demography_df['RIDEXPRG'] = demography_df['RIDEXPRG'].fillna(9)\n",
    "variable_documentation_dict[demo][3][\"RIDEXPRG\"][\"Code or Value\"][3] = 9"
   ]
  },
  {
   "cell_type": "code",
   "execution_count": null,
   "metadata": {
    "id": "bDoKo9heECRO"
   },
   "outputs": [],
   "source": []
  },
  {
   "cell_type": "code",
   "execution_count": null,
   "metadata": {
    "colab": {
     "base_uri": "https://localhost:8080/",
     "height": 204
    },
    "id": "FJletUAN-vC3",
    "outputId": "6f1f9551-b759-41d5-8c5f-07f743480937"
   },
   "outputs": [],
   "source": [
    "demography_df.head()"
   ]
  },
  {
   "cell_type": "code",
   "execution_count": null,
   "metadata": {
    "colab": {
     "base_uri": "https://localhost:8080/"
    },
    "id": "5qWHX-Bm-zXx",
    "outputId": "748b5cb2-b56e-4a0c-e66d-32c08c6bb6ef"
   },
   "outputs": [],
   "source": [
    "demography_df.info()"
   ]
  },
  {
   "cell_type": "code",
   "execution_count": null,
   "metadata": {
    "id": "VbKrsJJ_li8D"
   },
   "outputs": [],
   "source": [
    "Dict_Data_files[demo] = demography_df"
   ]
  },
  {
   "cell_type": "code",
   "execution_count": null,
   "metadata": {
    "colab": {
     "base_uri": "https://localhost:8080/"
    },
    "id": "LQGpZ8U5_7C_",
    "outputId": "addb645a-c459-4add-b37a-cec219e3c310"
   },
   "outputs": [],
   "source": [
    "var_dict_keys"
   ]
  },
  {
   "cell_type": "markdown",
   "metadata": {
    "id": "tlJIx6-zAyJv"
   },
   "source": [
    "Now we look at the Blood Pressure data "
   ]
  },
  {
   "cell_type": "code",
   "execution_count": null,
   "metadata": {
    "colab": {
     "base_uri": "https://localhost:8080/",
     "height": 419
    },
    "id": "KpIotdc0Axvs",
    "outputId": "f49b10c7-d5db-42d7-956c-5a3904f431f5"
   },
   "outputs": [],
   "source": [
    "#the Blood Pressure is at index 1\n",
    "BP = var_dict_keys[1]\n",
    "BP_df  = Dict_Data_files[BP]\n",
    "\n",
    "Dict_Data_files[var_dict_keys[1]]"
   ]
  },
  {
   "cell_type": "code",
   "execution_count": null,
   "metadata": {
    "colab": {
     "base_uri": "https://localhost:8080/",
     "height": 204
    },
    "id": "M6BkC_8f8Udo",
    "outputId": "d10ceb70-d821-4ff1-e775-9a7dc7f7dde5"
   },
   "outputs": [],
   "source": [
    "BP_df.head()"
   ]
  },
  {
   "cell_type": "code",
   "execution_count": null,
   "metadata": {
    "colab": {
     "base_uri": "https://localhost:8080/"
    },
    "id": "N60PzJQ98T-v",
    "outputId": "4db59040-308b-4147-f3e5-a37f480559ec"
   },
   "outputs": [],
   "source": [
    "Dict_Data_files[var_dict_keys[1]].shape"
   ]
  },
  {
   "cell_type": "code",
   "execution_count": null,
   "metadata": {
    "colab": {
     "base_uri": "https://localhost:8080/"
    },
    "id": "kCRF0OEnlitR",
    "outputId": "ad19f59b-a8ff-41fe-f836-a6791738bc9b"
   },
   "outputs": [],
   "source": [
    "#merging the demo and BP\n",
    "merged_df = pd.merge(Dict_Data_files[var_dict_keys[0]],Dict_Data_files[var_dict_keys[1]],on='SEQN',how='outer')\n",
    "merged_df.info()"
   ]
  },
  {
   "cell_type": "code",
   "execution_count": null,
   "metadata": {
    "id": "JfVkOBJOlipW"
   },
   "outputs": [],
   "source": [
    "for i in range(2, len(var_dict_keys)):\n",
    "  merged_df = pd.merge(merged_df, Dict_Data_files[var_dict_keys[i]], on='SEQN',how='outer')"
   ]
  },
  {
   "cell_type": "code",
   "execution_count": null,
   "metadata": {
    "colab": {
     "base_uri": "https://localhost:8080/"
    },
    "id": "d4vHatIXdUz4",
    "outputId": "5094d914-26d5-44b6-a67d-ddde3ece38fd"
   },
   "outputs": [],
   "source": [
    "merged_df.info()"
   ]
  },
  {
   "cell_type": "code",
   "execution_count": null,
   "metadata": {
    "id": "Gmh5zYlEo5nJ"
   },
   "outputs": [],
   "source": [
    "var_dict_keys = list(variable_documentation_dict.keys())\n",
    "dict_of_var_name_and_SAS_name = dict()\n",
    "#Now we want to replace the columns with their actual names \n",
    "for i in range(len(variable_documentation_dict)):\n",
    "  dict_of_var_name_and_SAS_name.update(variable_documentation_dict[var_dict_keys[i]][1])\n",
    "\n",
    "#the below where missing, so we manually add\n",
    "dict_of_var_name_and_SAS_name[\"OCD150\"] = \"Type of work done last week\"\n",
    "dict_of_var_name_and_SAS_name[\"OCD390G\"] = \"Kind of work you have done the longest\"\n"
   ]
  },
  {
   "cell_type": "code",
   "execution_count": null,
   "metadata": {},
   "outputs": [],
   "source": [
    "dict_of_var_name_and_SAS_name"
   ]
  },
  {
   "cell_type": "code",
   "execution_count": null,
   "metadata": {
    "id": "pdPTNlyrGMbN"
   },
   "outputs": [],
   "source": [
    "merged_df.rename(columns=dict_of_var_name_and_SAS_name, inplace=True)"
   ]
  },
  {
   "cell_type": "code",
   "execution_count": null,
   "metadata": {
    "colab": {
     "base_uri": "https://localhost:8080/"
    },
    "id": "9QwawbKqHGeL",
    "outputId": "ac09bb3e-c642-4f93-9f8f-64040feba487"
   },
   "outputs": [],
   "source": [
    "for name in merged_df.columns:\n",
    "  print(name)"
   ]
  },
  {
   "cell_type": "markdown",
   "metadata": {
    "id": "dDIFrjrob-ip"
   },
   "source": [
    "### **Data Exploration and Analysis**"
   ]
  },
  {
   "cell_type": "code",
   "execution_count": null,
   "metadata": {},
   "outputs": [],
   "source": [
    "merged_df = pd.read_csv(\"merged_data.csv\")"
   ]
  },
  {
   "cell_type": "code",
   "execution_count": null,
   "metadata": {},
   "outputs": [],
   "source": [
    "merged_df.head()"
   ]
  },
  {
   "cell_type": "code",
   "execution_count": null,
   "metadata": {},
   "outputs": [],
   "source": [
    "merged_df[merged_df.columns[1:20]].info()"
   ]
  },
  {
   "cell_type": "code",
   "execution_count": null,
   "metadata": {},
   "outputs": [],
   "source": [
    "#we use the table use the variable table from the variable documentation for reference \n",
    "variable_documentation_dict['Demography'][3][\"RIAGENDR\"]"
   ]
  },
  {
   "cell_type": "markdown",
   "metadata": {},
   "source": [
    "We are first going to convet all the floats in the variable_documentation_dict so that they match the dataframe and we are also going to replace NaN in the merged dataframe with '.' so that it matches with the documentation "
   ]
  },
  {
   "cell_type": "code",
   "execution_count": null,
   "metadata": {},
   "outputs": [],
   "source": [
    "#the below is a brute force was of getting to the objective\n",
    "#the try catch is to take care of when the category has changed \n",
    "#we also what a dictionary that will map each variable to it data category\n",
    "cat_and_var_dict = dict()\n",
    "sas_rev_var_name = dict()\n",
    "for var_cat in var_dict_keys:\n",
    "    for variable_name in list(dict_of_var_name_and_SAS_name.keys()):\n",
    "        try:     \n",
    "            df = variable_documentation_dict[var_cat][3][variable_name]\n",
    "            cat_and_var_dict[dict_of_var_name_and_SAS_name[variable_name]] = var_cat\n",
    "            sas_rev_var_name[dict_of_var_name_and_SAS_name[variable_name]] = variable_name\n",
    "            for i, x in enumerate(df[\"Code or Value\"]):\n",
    "                if x.isdigit():\n",
    "                    x = float(x)\n",
    "                    df[\"Code or Value\"][i] = x\n",
    "        except:\n",
    "            r = 2\n",
    "\n"
   ]
  },
  {
   "cell_type": "code",
   "execution_count": null,
   "metadata": {},
   "outputs": [],
   "source": []
  },
  {
   "cell_type": "code",
   "execution_count": null,
   "metadata": {},
   "outputs": [],
   "source": [
    "merged_df = merged_df.fillna(\".\")"
   ]
  },
  {
   "cell_type": "code",
   "execution_count": null,
   "metadata": {},
   "outputs": [],
   "source": [
    "merged_df[merged_df.columns[1:20]].info()"
   ]
  },
  {
   "cell_type": "code",
   "execution_count": null,
   "metadata": {},
   "outputs": [],
   "source": [
    "variable_documentation_dict['Demography'][3][\"DMDCITZN\"]"
   ]
  },
  {
   "cell_type": "code",
   "execution_count": null,
   "metadata": {
    "colab": {
     "base_uri": "https://localhost:8080/"
    },
    "id": "h2OBoIxbgVG1",
    "outputId": "df77a3f1-cf57-4b90-b332-b57807c00f1c"
   },
   "outputs": [],
   "source": [
    "#first we will look at the distribution of gender\n",
    "merged_df[\"Gender\"].value_counts()"
   ]
  },
  {
   "cell_type": "code",
   "execution_count": null,
   "metadata": {
    "colab": {
     "base_uri": "https://localhost:8080/",
     "height": 142
    },
    "id": "MTG1hirkKWo6",
    "outputId": "795d02d8-1378-4837-e219-21b063c64d25"
   },
   "outputs": [],
   "source": [
    "#we use the table use the variable table from the variable documentation for reference \n",
    "variable_documentation_dict['Demography'][3][\"RIAGENDR\"]"
   ]
  },
  {
   "cell_type": "code",
   "execution_count": null,
   "metadata": {
    "id": "1RwdQKyjM0Qm"
   },
   "outputs": [],
   "source": [
    "#we will create a helper fuction \n",
    "def value_mapper(x):\n",
    "  df = variable_documentation_dict['Demography'][3][\"RIAGENDR\"]\n",
    "  i = df[df['Code or Value'] == x].index[0]\n",
    "  return df['Value Description'][i]"
   ]
  },
  {
   "cell_type": "code",
   "execution_count": null,
   "metadata": {},
   "outputs": [],
   "source": [
    "# for i, x in enumerate(column):\n",
    "#     y = df[df['Code or Value'] == str(x)].index[0]\n",
    "#     column[i] = df['Value Description'][i]\n"
   ]
  },
  {
   "cell_type": "code",
   "execution_count": null,
   "metadata": {
    "colab": {
     "base_uri": "https://localhost:8080/",
     "height": 37
    },
    "id": "LX3UrnIcOdG6",
    "outputId": "7cc5585e-0b7a-4f68-a696-8f06c92fa235"
   },
   "outputs": [],
   "source": [
    "value_mapper(2.0)"
   ]
  },
  {
   "cell_type": "code",
   "execution_count": null,
   "metadata": {
    "colab": {
     "base_uri": "https://localhost:8080/",
     "height": 111
    },
    "id": "zHCYqTapLkFM",
    "outputId": "3c5fcced-420e-4ec9-bbd8-a5b246ac8fa0"
   },
   "outputs": [],
   "source": [
    "tempdf = pd.DataFrame(merged_df[\"Gender\"].value_counts())\n",
    "tempdf.reset_index(inplace= True)\n",
    "tempdf.columns = [\"Gender\", \"Count\"]\n",
    "\n",
    "tempdf['Gender'] = tempdf['Gender'].apply(value_mapper)\n",
    "fig = px.pie(tempdf, values='Count', names='Gender', )\n",
    "fig.show()\n"
   ]
  },
  {
   "cell_type": "code",
   "execution_count": null,
   "metadata": {},
   "outputs": [],
   "source": [
    "for name in merged_df.columns:\n",
    "    print(name)"
   ]
  },
  {
   "cell_type": "code",
   "execution_count": null,
   "metadata": {},
   "outputs": [],
   "source": [
    "# #here we are going to create a value mapper\n",
    "# def value_mapper_v2(column, data_cat, variable_name):\n",
    "#     column = column.astype(int)\n",
    "#     column = column.astype(str)\n",
    "#     try:\n",
    "#         df = variable_documentation_dict[data_cat][3][variable_name]\n",
    "#         for i, x in enumerate(column):\n",
    "#             y = df[df['Code or Value'] == str(x)].index[0]\n",
    "#             column[i] = df['Value Description'][y]\n",
    "#     except Exception as e:\n",
    "#         print(e)\n",
    "#     return \n",
    "    "
   ]
  },
  {
   "cell_type": "code",
   "execution_count": null,
   "metadata": {},
   "outputs": [],
   "source": [
    "#now we look at the distribution of the genders with regards to race \n",
    "temp_df = merged_df[[\"Gender\", \"Race/Ethnicity - Recode\"]]\n",
    "\n",
    "def value_mapper(x):\n",
    "  df = variable_documentation_dict['Demography'][3][\"RIAGENDR\"]\n",
    "  i = df[df['Code or Value'] == x].index[0]\n",
    "  return df['Value Description'][i]\n",
    "temp_df[\"Gender\"] = temp_df[\"Gender\"].apply(value_mapper)\n",
    "\n",
    "\n",
    "def value_mapper(x):\n",
    "  df = variable_documentation_dict['Demography'][3][\"RIDRETH1\"]\n",
    "  i = df[df['Code or Value'] == x].index[0]\n",
    "  return df['Value Description'][i]\n",
    "\n",
    "temp_df[\"Race/Ethnicity - Recode\"]  = temp_df[\"Race/Ethnicity - Recode\"].apply(value_mapper)\n",
    "\n",
    "fig = px.histogram(temp_df, x=\"Gender\", color= \"Race/Ethnicity - Recode\", title= \"Gender per Race/Ethnicity\")\n",
    "fig.update_layout(bargap=0.2)\n",
    "fig.show()"
   ]
  },
  {
   "cell_type": "code",
   "execution_count": null,
   "metadata": {},
   "outputs": [],
   "source": [
    "variable_documentation_dict['Demography'][3][\"RIDRETH1\"]"
   ]
  },
  {
   "cell_type": "code",
   "execution_count": null,
   "metadata": {},
   "outputs": [],
   "source": [
    "temp_df = merged_df[[\"Covered by health insurance\", \"Race/Ethnicity - Recode\"]]"
   ]
  },
  {
   "cell_type": "code",
   "execution_count": null,
   "metadata": {},
   "outputs": [],
   "source": [
    "temp_df.head()"
   ]
  },
  {
   "cell_type": "code",
   "execution_count": null,
   "metadata": {},
   "outputs": [],
   "source": [
    "temp_df = merged_df[[\"Covered by health insurance\", \"Race/Ethnicity - Recode\"]]\n",
    "def value_mapper(x):\n",
    "    df = variable_documentation_dict['Health Insurance'][3][\"HIQ011\"]\n",
    "    i = df[df['Code or Value'] == x].index[0]\n",
    "    return df['Value Description'][i]\n",
    "\n",
    "temp_df['Covered by health insurance'] = temp_df['Covered by health insurance'].apply(value_mapper)\n",
    "\n",
    "\n",
    "def value_mapper(x):\n",
    "    df = variable_documentation_dict['Demography'][3][\"RIDRETH1\"]\n",
    "    i = df[df['Code or Value'] == x].index[0]\n",
    "    return df['Value Description'][i]\n",
    "\n",
    "temp_df[\"Race/Ethnicity - Recode\"]  = temp_df[\"Race/Ethnicity - Recode\"].apply(value_mapper)\n",
    "\n",
    "fig = px.histogram(temp_df, x=\"Covered by health insurance\")\n",
    "fig.show()\n"
   ]
  },
  {
   "cell_type": "code",
   "execution_count": null,
   "metadata": {},
   "outputs": [],
   "source": [
    "temp_df = merged_df[[\"Covered by health insurance\", \"Race/Ethnicity - Recode\"]]\n",
    "\n",
    "\n",
    "def value_mapper(x):\n",
    "    df = variable_documentation_dict['Health Insurance'][3][\"HIQ011\"]\n",
    "    i = df[df['Code or Value'] == x].index[0]\n",
    "    return df['Value Description'][i]\n",
    "temp_df[\"Covered by health insurance\"] = temp_df[\"Covered by health insurance\"].apply(value_mapper)\n",
    "\n",
    "\n",
    "def value_mapper(x):\n",
    "  df = variable_documentation_dict['Demography'][3][\"RIDRETH1\"]\n",
    "  i = df[df['Code or Value'] == x].index[0]\n",
    "  return df['Value Description'][i]\n",
    "\n",
    "temp_df[\"Race/Ethnicity - Recode\"]  = temp_df[\"Race/Ethnicity - Recode\"].apply(value_mapper)\n",
    "\n",
    "fig = px.histogram(temp_df, x=\"Covered by health insurance\", color= \"Race/Ethnicity - Recode\", title= \"Covered by health insurance\")\n",
    "fig.update_layout(bargap=0.2)\n",
    "fig.show()"
   ]
  },
  {
   "cell_type": "code",
   "execution_count": null,
   "metadata": {},
   "outputs": [],
   "source": [
    "var_dict_keys"
   ]
  },
  {
   "cell_type": "code",
   "execution_count": null,
   "metadata": {},
   "outputs": [],
   "source": [
    "dict_of_var_name_and_SAS_name"
   ]
  },
  {
   "cell_type": "code",
   "execution_count": null,
   "metadata": {},
   "outputs": [],
   "source": [
    "def create_chart(x, y):\n",
    "  #now we look at the distribution of the genders with regards to race \n",
    "  temp_df = merged_df[[x, y]]\n",
    "\n",
    "  def value_mapper(num):\n",
    "    df = variable_documentation_dict[cat_and_var_dict[x]][3][sas_rev_var_name[x]]\n",
    "    i = df[df['Code or Value'] == num].index[0]\n",
    "    return df['Value Description'][i]\n",
    "  temp_df[x] = temp_df[x].apply(value_mapper)\n",
    "\n",
    "\n",
    "  def value_mapper(num):\n",
    "    df = variable_documentation_dict[cat_and_var_dict[y]][3][sas_rev_var_name[y]]\n",
    "    i = df[df['Code or Value'] == num].index[0]\n",
    "    return df['Value Description'][i]\n",
    "  temp_df[y] = temp_df[y].apply(value_mapper)\n",
    "\n",
    "  fig = px.histogram(temp_df, x=x, color= y, title= f\"{x}\")\n",
    "  fig.update_layout(bargap=0.2)\n",
    "  fig.show()"
   ]
  },
  {
   "cell_type": "code",
   "execution_count": null,
   "metadata": {},
   "outputs": [],
   "source": [
    "create_chart(x = 'Family monthly poverty level category', y= 'Race/Ethnicity - Recode')"
   ]
  },
  {
   "cell_type": "code",
   "execution_count": null,
   "metadata": {},
   "outputs": [],
   "source": [
    "create_chart(x = 'Have Medicare?', y= 'Race/Ethnicity - Recode')"
   ]
  },
  {
   "cell_type": "code",
   "execution_count": null,
   "metadata": {},
   "outputs": [],
   "source": [
    "create_chart(x = 'No coverage of any type', y= 'Race/Ethnicity - Recode')"
   ]
  },
  {
   "cell_type": "code",
   "execution_count": null,
   "metadata": {},
   "outputs": [],
   "source": [
    "create_chart(x = 'General health condition', y= 'Race/Ethnicity - Recode')"
   ]
  },
  {
   "cell_type": "code",
   "execution_count": null,
   "metadata": {},
   "outputs": [],
   "source": [
    "create_chart(x = 'Type place most often go for healthcare', y= 'Race/Ethnicity - Recode')"
   ]
  },
  {
   "cell_type": "code",
   "execution_count": null,
   "metadata": {},
   "outputs": [],
   "source": [
    "create_chart(x = 'How long since last healthcare visit', y= 'Race/Ethnicity - Recode')"
   ]
  },
  {
   "cell_type": "code",
   "execution_count": null,
   "metadata": {},
   "outputs": [],
   "source": []
  }
 ],
 "metadata": {
  "colab": {
   "collapsed_sections": [
    "dDIFrjrob-ip"
   ],
   "machine_shape": "hm",
   "name": "NHANES_data_collection_and_EDA.ipynb",
   "provenance": []
  },
  "kernelspec": {
   "display_name": "Python 3 (ipykernel)",
   "language": "python",
   "name": "python3"
  },
  "language_info": {
   "codemirror_mode": {
    "name": "ipython",
    "version": 3
   },
   "file_extension": ".py",
   "mimetype": "text/x-python",
   "name": "python",
   "nbconvert_exporter": "python",
   "pygments_lexer": "ipython3",
   "version": "3.9.5"
  }
 },
 "nbformat": 4,
 "nbformat_minor": 1
}
