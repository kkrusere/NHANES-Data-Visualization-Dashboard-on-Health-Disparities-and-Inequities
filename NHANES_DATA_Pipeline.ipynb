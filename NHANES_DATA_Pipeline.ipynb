{
 "cells": [
  {
   "cell_type": "code",
   "execution_count": 6,
   "metadata": {},
   "outputs": [],
   "source": [
    "#let's import somre relavent libraries\n",
    "import pandas as pd\n",
    "import requests\n",
    "from bs4 import BeautifulSoup\n",
    "\n",
    "\n",
    "import numpy as np\n",
    "import warnings\n",
    "warnings.filterwarnings('ignore')"
   ]
  },
  {
   "cell_type": "code",
   "execution_count": 7,
   "metadata": {},
   "outputs": [],
   "source": [
    "data_cat_list = [\n",
    "    \"demographics\",\n",
    "    \"dietary\", \n",
    "    \"examination\", \n",
    "    \"laboratory\", \n",
    "    \"questionnaire\", \n",
    "    \"limitedaccess\"\n",
    "]"
   ]
  },
  {
   "cell_type": "code",
   "execution_count": 8,
   "metadata": {},
   "outputs": [
    {
     "name": "stdout",
     "output_type": "stream",
     "text": [
      "['Demographic Variables & Sample Weights'\n",
      " 'Demographic Variables and Sample Weights']\n"
     ]
    }
   ],
   "source": [
    "from NHANES_data_API import NHANESDataAPI\n",
    "\n",
    "api = NHANESDataAPI('demographics')"
   ]
  },
  {
   "cell_type": "code",
   "execution_count": 10,
   "metadata": {},
   "outputs": [
    {
     "data": {
      "text/html": [
       "<div>\n",
       "<style scoped>\n",
       "    .dataframe tbody tr th:only-of-type {\n",
       "        vertical-align: middle;\n",
       "    }\n",
       "\n",
       "    .dataframe tbody tr th {\n",
       "        vertical-align: top;\n",
       "    }\n",
       "\n",
       "    .dataframe thead th {\n",
       "        text-align: right;\n",
       "    }\n",
       "</style>\n",
       "<table border=\"1\" class=\"dataframe\">\n",
       "  <thead>\n",
       "    <tr style=\"text-align: right;\">\n",
       "      <th></th>\n",
       "      <th>Variable Name</th>\n",
       "      <th>Variable Description</th>\n",
       "      <th>Data File Name</th>\n",
       "      <th>Data File Description</th>\n",
       "      <th>Years</th>\n",
       "    </tr>\n",
       "  </thead>\n",
       "  <tbody>\n",
       "    <tr>\n",
       "      <th>0</th>\n",
       "      <td>AIALANG</td>\n",
       "      <td>Language of the MEC ACASI Interview Instrument</td>\n",
       "      <td>DEMO_D</td>\n",
       "      <td>Demographic Variables &amp; Sample Weights</td>\n",
       "      <td>2005-2006</td>\n",
       "    </tr>\n",
       "    <tr>\n",
       "      <th>1</th>\n",
       "      <td>DMDBORN</td>\n",
       "      <td>In what country {were you/was SP} born?</td>\n",
       "      <td>DEMO_D</td>\n",
       "      <td>Demographic Variables &amp; Sample Weights</td>\n",
       "      <td>2005-2006</td>\n",
       "    </tr>\n",
       "    <tr>\n",
       "      <th>2</th>\n",
       "      <td>DMDCITZN</td>\n",
       "      <td>{Are you/Is SP} a citizen of the United States...</td>\n",
       "      <td>DEMO_D</td>\n",
       "      <td>Demographic Variables &amp; Sample Weights</td>\n",
       "      <td>2005-2006</td>\n",
       "    </tr>\n",
       "    <tr>\n",
       "      <th>3</th>\n",
       "      <td>DMDEDUC2</td>\n",
       "      <td>(SP Interview Version) What is the highest gra...</td>\n",
       "      <td>DEMO_D</td>\n",
       "      <td>Demographic Variables &amp; Sample Weights</td>\n",
       "      <td>2005-2006</td>\n",
       "    </tr>\n",
       "    <tr>\n",
       "      <th>4</th>\n",
       "      <td>DMDEDUC3</td>\n",
       "      <td>(SP Interview Version) What is the highest gra...</td>\n",
       "      <td>DEMO_D</td>\n",
       "      <td>Demographic Variables &amp; Sample Weights</td>\n",
       "      <td>2005-2006</td>\n",
       "    </tr>\n",
       "    <tr>\n",
       "      <th>...</th>\n",
       "      <td>...</td>\n",
       "      <td>...</td>\n",
       "      <td>...</td>\n",
       "      <td>...</td>\n",
       "      <td>...</td>\n",
       "    </tr>\n",
       "    <tr>\n",
       "      <th>537</th>\n",
       "      <td>SIAINTRP</td>\n",
       "      <td>Was an interpreter used to conduct the Sample ...</td>\n",
       "      <td>DEMO_J</td>\n",
       "      <td>Demographic Variables and Sample Weights</td>\n",
       "      <td>2017-2018</td>\n",
       "    </tr>\n",
       "    <tr>\n",
       "      <th>538</th>\n",
       "      <td>SIALANG</td>\n",
       "      <td>Language of the Sample Person Interview Instru...</td>\n",
       "      <td>DEMO_J</td>\n",
       "      <td>Demographic Variables and Sample Weights</td>\n",
       "      <td>2017-2018</td>\n",
       "    </tr>\n",
       "    <tr>\n",
       "      <th>539</th>\n",
       "      <td>SIAPROXY</td>\n",
       "      <td>Was a Proxy respondent used in conducting the ...</td>\n",
       "      <td>DEMO_J</td>\n",
       "      <td>Demographic Variables and Sample Weights</td>\n",
       "      <td>2017-2018</td>\n",
       "    </tr>\n",
       "    <tr>\n",
       "      <th>540</th>\n",
       "      <td>WTINT2YR</td>\n",
       "      <td>Full sample 2 year interview weight.</td>\n",
       "      <td>DEMO_J</td>\n",
       "      <td>Demographic Variables and Sample Weights</td>\n",
       "      <td>2017-2018</td>\n",
       "    </tr>\n",
       "    <tr>\n",
       "      <th>541</th>\n",
       "      <td>WTMEC2YR</td>\n",
       "      <td>Full sample 2 year MEC exam weight.</td>\n",
       "      <td>DEMO_J</td>\n",
       "      <td>Demographic Variables and Sample Weights</td>\n",
       "      <td>2017-2018</td>\n",
       "    </tr>\n",
       "  </tbody>\n",
       "</table>\n",
       "<p>542 rows × 5 columns</p>\n",
       "</div>"
      ],
      "text/plain": [
       "    Variable Name                               Variable Description  \\\n",
       "0         AIALANG     Language of the MEC ACASI Interview Instrument   \n",
       "1         DMDBORN            In what country {were you/was SP} born?   \n",
       "2        DMDCITZN  {Are you/Is SP} a citizen of the United States...   \n",
       "3        DMDEDUC2  (SP Interview Version) What is the highest gra...   \n",
       "4        DMDEDUC3  (SP Interview Version) What is the highest gra...   \n",
       "..            ...                                                ...   \n",
       "537      SIAINTRP  Was an interpreter used to conduct the Sample ...   \n",
       "538       SIALANG  Language of the Sample Person Interview Instru...   \n",
       "539      SIAPROXY  Was a Proxy respondent used in conducting the ...   \n",
       "540      WTINT2YR               Full sample 2 year interview weight.   \n",
       "541      WTMEC2YR                Full sample 2 year MEC exam weight.   \n",
       "\n",
       "    Data File Name                     Data File Description      Years  \n",
       "0           DEMO_D    Demographic Variables & Sample Weights  2005-2006  \n",
       "1           DEMO_D    Demographic Variables & Sample Weights  2005-2006  \n",
       "2           DEMO_D    Demographic Variables & Sample Weights  2005-2006  \n",
       "3           DEMO_D    Demographic Variables & Sample Weights  2005-2006  \n",
       "4           DEMO_D    Demographic Variables & Sample Weights  2005-2006  \n",
       "..             ...                                       ...        ...  \n",
       "537         DEMO_J  Demographic Variables and Sample Weights  2017-2018  \n",
       "538         DEMO_J  Demographic Variables and Sample Weights  2017-2018  \n",
       "539         DEMO_J  Demographic Variables and Sample Weights  2017-2018  \n",
       "540         DEMO_J  Demographic Variables and Sample Weights  2017-2018  \n",
       "541         DEMO_J  Demographic Variables and Sample Weights  2017-2018  \n",
       "\n",
       "[542 rows x 5 columns]"
      ]
     },
     "execution_count": 10,
     "metadata": {},
     "output_type": "execute_result"
    }
   ],
   "source": [
    "api.variable_table"
   ]
  },
  {
   "cell_type": "code",
   "execution_count": 14,
   "metadata": {},
   "outputs": [],
   "source": [
    "common_variables, variable_cycles_dict = api.common_variables(cycle_years= ['1999-2000'])"
   ]
  },
  {
   "cell_type": "code",
   "execution_count": 16,
   "metadata": {},
   "outputs": [
    {
     "data": {
      "text/plain": [
       "['WTIREP09',\n",
       " 'WTIREP05',\n",
       " 'INDFMPIR',\n",
       " 'SDJ1REPN',\n",
       " 'WTIREP41',\n",
       " 'WTIREP10',\n",
       " 'WTMREP51',\n",
       " 'WTIREP30',\n",
       " 'INDHHINC',\n",
       " 'WTMREP02',\n",
       " 'WTMREP43',\n",
       " 'WTMREP08',\n",
       " 'WTIREP47',\n",
       " 'RIDRETH2',\n",
       " 'WTIREP08',\n",
       " 'WTIREP14',\n",
       " 'WTMREP04',\n",
       " 'WTIREP23',\n",
       " 'WTMREP05',\n",
       " 'WTMREP23',\n",
       " 'WTMREP44',\n",
       " 'WTIREP07',\n",
       " 'WTMREP33',\n",
       " 'WTMREP46',\n",
       " 'WTMREP30',\n",
       " 'RIDPREG',\n",
       " 'WTIREP20',\n",
       " 'WTIREP19',\n",
       " 'WTMREP16',\n",
       " 'WTMREP22',\n",
       " 'DMDCITZN',\n",
       " 'WTMREP26',\n",
       " 'WTIREP17',\n",
       " 'DMDSCHOL',\n",
       " 'WTIREP04',\n",
       " 'WTMREP14',\n",
       " 'WTMREP37',\n",
       " 'WTMEC2YR',\n",
       " 'WTIREP49',\n",
       " 'RIDEXPRG',\n",
       " 'WTIREP22',\n",
       " 'RIDEXMON',\n",
       " 'WTMREP21',\n",
       " 'WTIREP26',\n",
       " 'WTMREP45',\n",
       " 'WTIREP11',\n",
       " 'WTMREP49',\n",
       " 'INDFMINC',\n",
       " 'WTMREP11',\n",
       " 'WTIREP28',\n",
       " 'WTIREP37',\n",
       " 'WTIREP06',\n",
       " 'RIDAGEMN',\n",
       " 'WTMREP01',\n",
       " 'WTMREP13',\n",
       " 'RIDRETH1',\n",
       " 'WTIREP33',\n",
       " 'RIDAGEEX',\n",
       " 'WTIREP21',\n",
       " 'WTMREP03',\n",
       " 'WTIREP36',\n",
       " 'DMDHREDU',\n",
       " 'DMDHRBRN',\n",
       " 'DMDMARTL',\n",
       " 'WTMREP17',\n",
       " 'WTIREP42',\n",
       " 'WTMREP40',\n",
       " 'WTIREP12',\n",
       " 'WTIREP43',\n",
       " 'WTMREP19',\n",
       " 'WTMREP18',\n",
       " 'WTIREP44',\n",
       " 'SDDSRVYR',\n",
       " 'DMDHHSIZ',\n",
       " 'DMDHRGND',\n",
       " 'WTMREP47',\n",
       " 'WTIREP38',\n",
       " 'DMDHRAGE',\n",
       " 'WTIREP27',\n",
       " 'DMDEDUC3',\n",
       " 'SDMVPSU',\n",
       " 'WTMREP52',\n",
       " 'WTMREP25',\n",
       " 'WTMREP42',\n",
       " 'WTMREP50',\n",
       " 'WTMEC4YR',\n",
       " 'DMDEDUC',\n",
       " 'RIDSTATR',\n",
       " 'WTMREP34',\n",
       " 'DMDYRSUS',\n",
       " 'WTIREP31',\n",
       " 'WTIREP34',\n",
       " 'WTIREP45',\n",
       " 'WTMREP28',\n",
       " 'WTMREP48',\n",
       " 'WTIREP35',\n",
       " 'WTMREP24',\n",
       " 'WTMREP27',\n",
       " 'WTIREP18',\n",
       " 'DMARACE',\n",
       " 'WTMREP29',\n",
       " 'WTMREP31',\n",
       " 'SEQN',\n",
       " 'WTIREP52',\n",
       " 'WTMREP39',\n",
       " 'WTMREP07',\n",
       " 'WTIREP29',\n",
       " 'WTMREP36',\n",
       " 'DMDBORN',\n",
       " 'WTIREP50',\n",
       " 'WTIREP51',\n",
       " 'RIAGENDR',\n",
       " 'WTIREP25',\n",
       " 'WTIREP46',\n",
       " 'WTMREP10',\n",
       " 'WTIREP32',\n",
       " 'WTIREP16',\n",
       " 'WTMREP41',\n",
       " 'WTINT4YR',\n",
       " 'WTMREP15',\n",
       " 'WTMREP32',\n",
       " 'WTINT2YR',\n",
       " 'WTIREP48',\n",
       " 'WTMREP20',\n",
       " 'DMDEDUC2',\n",
       " 'WTIREP15',\n",
       " 'DMDHRMAR',\n",
       " 'WTMREP06',\n",
       " 'WTMREP09',\n",
       " 'WTMREP12',\n",
       " 'RIDAGEYR',\n",
       " 'WTIREP01',\n",
       " 'DMDHSEDU',\n",
       " 'SDMVSTRA',\n",
       " 'DMQMILIT',\n",
       " 'WTIREP02',\n",
       " 'WTIREP40',\n",
       " 'WTIREP03',\n",
       " 'WTMREP38',\n",
       " 'WTMREP35',\n",
       " 'WTIREP13',\n",
       " 'WTIREP39',\n",
       " 'DMAETHN',\n",
       " 'WTIREP24']"
      ]
     },
     "execution_count": 16,
     "metadata": {},
     "output_type": "execute_result"
    }
   ],
   "source": [
    "common_variables"
   ]
  },
  {
   "cell_type": "code",
   "execution_count": 21,
   "metadata": {},
   "outputs": [],
   "source": [
    "cycle_list = [  \n",
    "                '1999-2000',\n",
    "                '2001-2002',\n",
    "                '2003-2004',\n",
    "                '2005-2006',\n",
    "                '2007-2008',\n",
    "                '2009-2010',\n",
    "                '2011-2012',\n",
    "                '2013-2014',\n",
    "                '2015-2016',\n",
    "                '2017-2018']\n",
    "data_cat_list = [\n",
    "                \"demographics\",\n",
    "                \"dietary\", \n",
    "                \"examination\", \n",
    "                \"laboratory\", \n",
    "                \"questionnaire\", \n",
    "                \"limitedaccess\"\n",
    "            ]"
   ]
  },
  {
   "cell_type": "code",
   "execution_count": 22,
   "metadata": {},
   "outputs": [],
   "source": [
    "def check_cycle(input_cycle):\n",
    "    \"\"\"\n",
    "    Check the validity of a cycle and return valid cycle(s) based on input.\n",
    "\n",
    "    Args:\n",
    "    input_cycle (str): The input cycle year or range.\n",
    "\n",
    "    Returns:\n",
    "    list: List of valid cycle(s) based on input.\n",
    "    \"\"\"\n",
    "    if '-' in input_cycle:\n",
    "        start_year, end_year = input_cycle.split('-')\n",
    "        the_cyclelist = check_in_between_cycle(start_year, end_year, cycle_list)\n",
    "        return the_cyclelist\n",
    "    elif input_cycle in cycle_list:\n",
    "        return [input_cycle]\n",
    "    elif any(input_cycle in cycles for cycles in cycle_list):\n",
    "        return [cycle for cycle in cycle_list if input_cycle in cycle]\n",
    "    else:\n",
    "        return []\n",
    "\n",
    "def check_in_between_cycle(start_year, end_year, cycle_list):\n",
    "    \"\"\"\n",
    "    Check for valid cycles within a range.\n",
    "\n",
    "    Args:\n",
    "    start_year (str): The start year of the range.\n",
    "    end_year (str): The end year of the range.\n",
    "    cycle_list (list): List of available cycle years.\n",
    "\n",
    "    Returns:\n",
    "    list: List of valid cycle(s) within the range.\n",
    "    \"\"\"\n",
    "    list_of_cycles_to_be_worked_on = []\n",
    "    flager = 0\n",
    "    for cycle in cycle_list:\n",
    "        if start_year in cycle:\n",
    "            flager = 1\n",
    "        if flager == 1:\n",
    "            list_of_cycles_to_be_worked_on.append(cycle)\n",
    "        if end_year in cycle:\n",
    "            return list_of_cycles_to_be_worked_on\n",
    "    return list_of_cycles_to_be_worked_on\n"
   ]
  },
  {
   "cell_type": "code",
   "execution_count": 26,
   "metadata": {},
   "outputs": [],
   "source": [
    "def common_variables(cycle_years):\n",
    "    \"\"\"\n",
    "    Find common variables across multiple cycle years and create a dictionary with variable-cycles mapping.\n",
    "\n",
    "    Args:\n",
    "    cycle_years (str or list of str): Either a single cycle year or a list of cycle years.\n",
    "\n",
    "    Returns:\n",
    "    list: List of common variables.\n",
    "    list: List of uncommon variables.\n",
    "    dict: A dictionary of {variable: [cycles]}.\n",
    "    \"\"\"\n",
    "    if isinstance(cycle_years, str):\n",
    "        cycle_years = [cycle_years]\n",
    "\n",
    "\n",
    "    common_variables = None\n",
    "    variable_cycles_dict = {}\n",
    "    valid_cycles = list()\n",
    "    for cycle in cycle_years:\n",
    "        valid_cycles = valid_cycles + check_cycle(cycle)\n",
    "\n",
    "        \n",
    "    return valid_cycles"
   ]
  },
  {
   "cell_type": "code",
   "execution_count": 25,
   "metadata": {},
   "outputs": [
    {
     "data": {
      "text/plain": [
       "['1999-2000', '2001-2002', '2003-2004']"
      ]
     },
     "execution_count": 25,
     "metadata": {},
     "output_type": "execute_result"
    }
   ],
   "source": [
    "check_cycle(\"1999-2004\")"
   ]
  },
  {
   "cell_type": "code",
   "execution_count": 27,
   "metadata": {},
   "outputs": [
    {
     "data": {
      "text/plain": [
       "['2001-2002']"
      ]
     },
     "execution_count": 27,
     "metadata": {},
     "output_type": "execute_result"
    }
   ],
   "source": [
    "common_variables(\"2001-2002\")"
   ]
  },
  {
   "cell_type": "code",
   "execution_count": 28,
   "metadata": {},
   "outputs": [
    {
     "data": {
      "text/plain": [
       "['1999-2000', '2001-2002']"
      ]
     },
     "execution_count": 28,
     "metadata": {},
     "output_type": "execute_result"
    }
   ],
   "source": [
    "common_variables([\"1999-2000\", \"2001-2002\"])"
   ]
  },
  {
   "cell_type": "code",
   "execution_count": 29,
   "metadata": {},
   "outputs": [
    {
     "data": {
      "text/plain": [
       "['1999-2000', '2001-2002', '2003-2004']"
      ]
     },
     "execution_count": 29,
     "metadata": {},
     "output_type": "execute_result"
    }
   ],
   "source": [
    "common_variables([\"1999-2004\"])"
   ]
  },
  {
   "cell_type": "code",
   "execution_count": 30,
   "metadata": {},
   "outputs": [
    {
     "data": {
      "text/plain": [
       "['1999-2000', '2001-2002']"
      ]
     },
     "execution_count": 30,
     "metadata": {},
     "output_type": "execute_result"
    }
   ],
   "source": [
    "common_variables([\"1999-2000\", \"2001-2002\"])"
   ]
  },
  {
   "cell_type": "code",
   "execution_count": 31,
   "metadata": {},
   "outputs": [
    {
     "data": {
      "text/plain": [
       "[]"
      ]
     },
     "execution_count": 31,
     "metadata": {},
     "output_type": "execute_result"
    }
   ],
   "source": [
    "common_variables('2007')"
   ]
  },
  {
   "cell_type": "code",
   "execution_count": null,
   "metadata": {},
   "outputs": [],
   "source": []
  }
 ],
 "metadata": {
  "kernelspec": {
   "display_name": "git_projects_env",
   "language": "python",
   "name": "python3"
  },
  "language_info": {
   "codemirror_mode": {
    "name": "ipython",
    "version": 3
   },
   "file_extension": ".py",
   "mimetype": "text/x-python",
   "name": "python",
   "nbconvert_exporter": "python",
   "pygments_lexer": "ipython3",
   "version": "3.11.5"
  }
 },
 "nbformat": 4,
 "nbformat_minor": 2
}
